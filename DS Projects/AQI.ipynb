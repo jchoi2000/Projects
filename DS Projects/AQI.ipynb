{
 "cells": [
  {
   "cell_type": "code",
   "execution_count": 1,
   "id": "497b6978",
   "metadata": {
    "deletable": false,
    "editable": false
   },
   "outputs": [],
   "source": [
    "# Initialize Otter\n",
    "import otter\n",
    "grader = otter.Notebook(\"AQI.ipynb\")"
   ]
  },
  {
   "cell_type": "markdown",
   "id": "3c611a37",
   "metadata": {},
   "source": [
    "# Final Project: Air Quality Dataset\n",
    "## Analyzing and Predicting AQI Data through Modeling\n",
    "## Due Date: Thursday, December 17th, 11:59 PM\n",
    "## Collaboration Policy\n",
    "\n",
    "Data science is a collaborative activity. While you may talk with other groups about\n",
    "the project, we ask that you **write your solutions individually**. If you do\n",
    "discuss the assignments with others outside of your group please **include their names** at the top\n",
    "of your notebook."
   ]
  },
  {
   "cell_type": "markdown",
   "id": "299ff619",
   "metadata": {},
   "source": [
    "## This Assignment\n",
    "\n",
    "In this final project, we will investigate AQI data for the year 2020 from **USA EPA** data. All the data used for this project can be accessed from the [EPA Website](https://aqs.epa.gov/aqsweb/airdata/download_files.html), which we will pull from directly in this notebook. This dataset contains geographical and time-series data on various factors that contribute to AQI from all government sites. The main goal at the end for you will be to understand how AQI varies both geographically and over time, and use your analysis (as well as other data that you can find) to be predict AQI at a certain point in time for various locations in California.\n",
    "\n",
    "Through this final project, you will demonstrate your experience with:\n",
    "* EDA and merging on location using Pandas\n",
    "* Unsupervised and supervised learning techniques\n",
    "* Visualization and interpolation\n",
    "\n",
    "This is **part 1** of the project, which includes the data cleaning, guided EDA and open-ended EDA components of the project. This will help you for part 2, where you will be completing the modeling component. "
   ]
  },
  {
   "cell_type": "code",
   "execution_count": 2,
   "id": "5e624bff",
   "metadata": {},
   "outputs": [],
   "source": [
    "import pandas as pd\n",
    "import numpy as np\n",
    "import seaborn as sns\n",
    "import matplotlib.pyplot as plt\n",
    "import re\n",
    "import geopandas as gpd\n",
    "\n",
    "import os\n",
    "import requests, zipfile, io\n",
    "\n",
    "import warnings\n",
    "warnings.filterwarnings('ignore')"
   ]
  },
  {
   "cell_type": "markdown",
   "id": "105f2ec9",
   "metadata": {},
   "source": [
    "<br/><br/>\n",
    "\n",
    "---\n",
    "## Section 1: Data Cleaning\n",
    "\n",
    "As mentioned, we will be using the **US EPA** data from the EPA website. Below is a dataframe of the files we will be using for the project. The following two cells will download the data and put it into a dictionary called `epa_data`."
   ]
  },
  {
   "cell_type": "code",
   "execution_count": 3,
   "id": "c875d9e9",
   "metadata": {},
   "outputs": [
    {
     "data": {
      "text/html": [
       "<div>\n",
       "<style scoped>\n",
       "    .dataframe tbody tr th:only-of-type {\n",
       "        vertical-align: middle;\n",
       "    }\n",
       "\n",
       "    .dataframe tbody tr th {\n",
       "        vertical-align: top;\n",
       "    }\n",
       "\n",
       "    .dataframe thead th {\n",
       "        text-align: right;\n",
       "    }\n",
       "</style>\n",
       "<table border=\"1\" class=\"dataframe\">\n",
       "  <thead>\n",
       "    <tr style=\"text-align: right;\">\n",
       "      <th></th>\n",
       "      <th>name</th>\n",
       "      <th>epa_filename</th>\n",
       "    </tr>\n",
       "  </thead>\n",
       "  <tbody>\n",
       "    <tr>\n",
       "      <th>0</th>\n",
       "      <td>annual_county_aqi</td>\n",
       "      <td>annual_aqi_by_county_2020</td>\n",
       "    </tr>\n",
       "    <tr>\n",
       "      <th>1</th>\n",
       "      <td>daily_county_aqi</td>\n",
       "      <td>daily_aqi_by_county_2020</td>\n",
       "    </tr>\n",
       "    <tr>\n",
       "      <th>2</th>\n",
       "      <td>daily_ozone</td>\n",
       "      <td>daily_44201_2020</td>\n",
       "    </tr>\n",
       "    <tr>\n",
       "      <th>3</th>\n",
       "      <td>daily_so2</td>\n",
       "      <td>daily_42401_2020</td>\n",
       "    </tr>\n",
       "    <tr>\n",
       "      <th>4</th>\n",
       "      <td>daily_co</td>\n",
       "      <td>daily_42101_2020</td>\n",
       "    </tr>\n",
       "    <tr>\n",
       "      <th>5</th>\n",
       "      <td>daily_no2</td>\n",
       "      <td>daily_42602_2020</td>\n",
       "    </tr>\n",
       "    <tr>\n",
       "      <th>6</th>\n",
       "      <td>daily_temp</td>\n",
       "      <td>daily_WIND_2020</td>\n",
       "    </tr>\n",
       "    <tr>\n",
       "      <th>7</th>\n",
       "      <td>daily_wind</td>\n",
       "      <td>daily_TEMP_2020</td>\n",
       "    </tr>\n",
       "    <tr>\n",
       "      <th>8</th>\n",
       "      <td>aqs_sites</td>\n",
       "      <td>aqs_sites</td>\n",
       "    </tr>\n",
       "  </tbody>\n",
       "</table>\n",
       "</div>"
      ],
      "text/plain": [
       "                name               epa_filename\n",
       "0  annual_county_aqi  annual_aqi_by_county_2020\n",
       "1   daily_county_aqi   daily_aqi_by_county_2020\n",
       "2        daily_ozone           daily_44201_2020\n",
       "3          daily_so2           daily_42401_2020\n",
       "4           daily_co           daily_42101_2020\n",
       "5          daily_no2           daily_42602_2020\n",
       "6         daily_temp            daily_WIND_2020\n",
       "7         daily_wind            daily_TEMP_2020\n",
       "8          aqs_sites                  aqs_sites"
      ]
     },
     "execution_count": 3,
     "metadata": {},
     "output_type": "execute_result"
    }
   ],
   "source": [
    "epa_weburl = \"https://web.archive.org/web/20211118232504/https://aqs.epa.gov/aqsweb/airdata/\"\n",
    "epa_filenames = pd.read_csv(\"data/epa_filenames.csv\")\n",
    "epa_filenames"
   ]
  },
  {
   "cell_type": "markdown",
   "id": "37d5a045",
   "metadata": {},
   "source": [
    "Below is code that we used to extract the code from the AQI website, which we encourage you to understand! This will pull directly from the website urls and put it into your `data/` folder. "
   ]
  },
  {
   "cell_type": "code",
   "execution_count": 4,
   "id": "283fc9f8-3e75-428a-befd-db3bb5cb7b01",
   "metadata": {},
   "outputs": [],
   "source": [
    "epa_data = {}\n",
    "for name, filename in zip(epa_filenames['name'], epa_filenames['epa_filename']):\n",
    "    path_name = 'data/{}'.format(name)\n",
    "    if not os.path.isdir(path_name):\n",
    "        data_url = '{}{}.zip'.format(epa_weburl, filename)\n",
    "        req = requests.get(data_url)\n",
    "        z = zipfile.ZipFile(io.BytesIO(req.content))\n",
    "        z.extractall(path_name)\n",
    "    data = pd.read_csv(f'data/{name}/{filename}.csv')\n",
    "    epa_data[name] = data\n",
    "\n",
    "\n",
    "# epa_data = {}\n",
    "# for name, filename in zip(epa_filenames['name'], epa_filenames['epa_filename']):\n",
    "#     path_name = 'data/{}'.format(name)\n",
    "#     # if not os.path.isdir(path_name):\n",
    "#     data_url = '{}{}.zip'.format(epa_weburl, filename)\n",
    "#     req = requests.get(data_url)\n",
    "#     z = zipfile.ZipFile(io.BytesIO(req.content))\n",
    "#     z.extractall(path_name)\n",
    "#     data = pd.read_csv(f'data/{name}/{filename}.csv')\n",
    "#     epa_data[name] = data"
   ]
  },
  {
   "cell_type": "markdown",
   "id": "f86fef96",
   "metadata": {},
   "source": [
    "Use the below cell to explore each of the datasets, which can be accessed using the keys in the `name` column of `epa_filenames` above. Currently, the cell is viewing the `annual_county_aqi` dataset, but feel free to change it to whichever dataset you want to explore. "
   ]
  },
  {
   "cell_type": "code",
   "execution_count": 5,
   "id": "4a83d60d",
   "metadata": {},
   "outputs": [
    {
     "data": {
      "text/html": [
       "<div>\n",
       "<style scoped>\n",
       "    .dataframe tbody tr th:only-of-type {\n",
       "        vertical-align: middle;\n",
       "    }\n",
       "\n",
       "    .dataframe tbody tr th {\n",
       "        vertical-align: top;\n",
       "    }\n",
       "\n",
       "    .dataframe thead th {\n",
       "        text-align: right;\n",
       "    }\n",
       "</style>\n",
       "<table border=\"1\" class=\"dataframe\">\n",
       "  <thead>\n",
       "    <tr style=\"text-align: right;\">\n",
       "      <th></th>\n",
       "      <th>State Name</th>\n",
       "      <th>county Name</th>\n",
       "      <th>State Code</th>\n",
       "      <th>County Code</th>\n",
       "      <th>Date</th>\n",
       "      <th>AQI</th>\n",
       "      <th>Category</th>\n",
       "      <th>Defining Parameter</th>\n",
       "      <th>Defining Site</th>\n",
       "      <th>Number of Sites Reporting</th>\n",
       "    </tr>\n",
       "  </thead>\n",
       "  <tbody>\n",
       "    <tr>\n",
       "      <th>0</th>\n",
       "      <td>Alabama</td>\n",
       "      <td>Baldwin</td>\n",
       "      <td>1</td>\n",
       "      <td>3</td>\n",
       "      <td>2020-01-01</td>\n",
       "      <td>48</td>\n",
       "      <td>Good</td>\n",
       "      <td>PM2.5</td>\n",
       "      <td>01-003-0010</td>\n",
       "      <td>1</td>\n",
       "    </tr>\n",
       "    <tr>\n",
       "      <th>1</th>\n",
       "      <td>Alabama</td>\n",
       "      <td>Baldwin</td>\n",
       "      <td>1</td>\n",
       "      <td>3</td>\n",
       "      <td>2020-01-04</td>\n",
       "      <td>13</td>\n",
       "      <td>Good</td>\n",
       "      <td>PM2.5</td>\n",
       "      <td>01-003-0010</td>\n",
       "      <td>1</td>\n",
       "    </tr>\n",
       "    <tr>\n",
       "      <th>2</th>\n",
       "      <td>Alabama</td>\n",
       "      <td>Baldwin</td>\n",
       "      <td>1</td>\n",
       "      <td>3</td>\n",
       "      <td>2020-01-07</td>\n",
       "      <td>14</td>\n",
       "      <td>Good</td>\n",
       "      <td>PM2.5</td>\n",
       "      <td>01-003-0010</td>\n",
       "      <td>1</td>\n",
       "    </tr>\n",
       "    <tr>\n",
       "      <th>3</th>\n",
       "      <td>Alabama</td>\n",
       "      <td>Baldwin</td>\n",
       "      <td>1</td>\n",
       "      <td>3</td>\n",
       "      <td>2020-01-10</td>\n",
       "      <td>39</td>\n",
       "      <td>Good</td>\n",
       "      <td>PM2.5</td>\n",
       "      <td>01-003-0010</td>\n",
       "      <td>1</td>\n",
       "    </tr>\n",
       "    <tr>\n",
       "      <th>4</th>\n",
       "      <td>Alabama</td>\n",
       "      <td>Baldwin</td>\n",
       "      <td>1</td>\n",
       "      <td>3</td>\n",
       "      <td>2020-01-13</td>\n",
       "      <td>29</td>\n",
       "      <td>Good</td>\n",
       "      <td>PM2.5</td>\n",
       "      <td>01-003-0010</td>\n",
       "      <td>1</td>\n",
       "    </tr>\n",
       "  </tbody>\n",
       "</table>\n",
       "</div>"
      ],
      "text/plain": [
       "  State Name county Name  State Code  County Code        Date  AQI Category  \\\n",
       "0    Alabama     Baldwin           1            3  2020-01-01   48     Good   \n",
       "1    Alabama     Baldwin           1            3  2020-01-04   13     Good   \n",
       "2    Alabama     Baldwin           1            3  2020-01-07   14     Good   \n",
       "3    Alabama     Baldwin           1            3  2020-01-10   39     Good   \n",
       "4    Alabama     Baldwin           1            3  2020-01-13   29     Good   \n",
       "\n",
       "  Defining Parameter Defining Site  Number of Sites Reporting  \n",
       "0              PM2.5   01-003-0010                          1  \n",
       "1              PM2.5   01-003-0010                          1  \n",
       "2              PM2.5   01-003-0010                          1  \n",
       "3              PM2.5   01-003-0010                          1  \n",
       "4              PM2.5   01-003-0010                          1  "
      ]
     },
     "execution_count": 5,
     "metadata": {},
     "output_type": "execute_result"
    }
   ],
   "source": [
    "epa_data.get('daily_county_aqi').head()"
   ]
  },
  {
   "cell_type": "markdown",
   "id": "bb2e3c82",
   "metadata": {
    "deletable": false,
    "editable": false
   },
   "source": [
    "<!-- BEGIN QUESTION -->\n",
    "\n",
    "<br/>\n",
    "\n",
    "### Question 0: Understanding the Data\n",
    "\n",
    "Notice that for the table `annual_county_aqi`, the 90th percentile AQI is reported as a column. Why would the 90th percentile AQI be useful as opposed to the maximum? What does it mean when the difference between the 90th percentile AQI and Max AQI is very large compared to the difference between the 90th percentile AQI and the median AQI?\n",
    "\n",
    "<!--\n",
    "BEGIN QUESTION\n",
    "name: q0\n",
    "manual: True\n",
    "points: 2\n",
    "-->"
   ]
  },
  {
   "cell_type": "markdown",
   "id": "09a64f72",
   "metadata": {},
   "source": [
    "The 90th percentile AQI is more useful as opposed to the maximum because the maximum is one instance, which could likely be an outlier that is much higher than the rest of the data, therefore not being a good representative of the higher data in general. For this reason, the 90th percentile is a better representation of the upper ends of the dataset. When the difference between the 90th percentile AQI and and Max AQI is relatively large compared to the difference between the 90th percentile AQI and median AQI, this means there exist outliers that are skewing the data, which is why the maximum is so large."
   ]
  },
  {
   "cell_type": "markdown",
   "id": "f81fa62f",
   "metadata": {
    "deletable": false,
    "editable": false
   },
   "source": [
    "<!-- END QUESTION -->\n",
    "\n",
    "<br/>\n",
    "\n",
    "### Question 1a: Creating Month and Day Columns\n",
    "\n",
    "In the `daily_county_aqi` table in `epa_data`, add two new columns called `Day` and `Month` that denote the day and month, respectively, of the AQI reading. The day and month should both be reported as an **integer** as opposed to a string (`Jan`, `Feb`, etc.)\n",
    "\n",
    "hint: `pd.to_datetime` may be useful.\n",
    "\n",
    "<!--\n",
    "BEGIN QUESTION\n",
    "name: q1a\n",
    "points: 1\n",
    "-->"
   ]
  },
  {
   "cell_type": "code",
   "execution_count": 6,
   "id": "e3287b23",
   "metadata": {},
   "outputs": [
    {
     "data": {
      "text/html": [
       "<div>\n",
       "<style scoped>\n",
       "    .dataframe tbody tr th:only-of-type {\n",
       "        vertical-align: middle;\n",
       "    }\n",
       "\n",
       "    .dataframe tbody tr th {\n",
       "        vertical-align: top;\n",
       "    }\n",
       "\n",
       "    .dataframe thead th {\n",
       "        text-align: right;\n",
       "    }\n",
       "</style>\n",
       "<table border=\"1\" class=\"dataframe\">\n",
       "  <thead>\n",
       "    <tr style=\"text-align: right;\">\n",
       "      <th></th>\n",
       "      <th>State Name</th>\n",
       "      <th>county Name</th>\n",
       "      <th>State Code</th>\n",
       "      <th>County Code</th>\n",
       "      <th>Date</th>\n",
       "      <th>AQI</th>\n",
       "      <th>Category</th>\n",
       "      <th>Defining Parameter</th>\n",
       "      <th>Defining Site</th>\n",
       "      <th>Number of Sites Reporting</th>\n",
       "      <th>Month</th>\n",
       "      <th>Day</th>\n",
       "    </tr>\n",
       "  </thead>\n",
       "  <tbody>\n",
       "    <tr>\n",
       "      <th>0</th>\n",
       "      <td>Alabama</td>\n",
       "      <td>Baldwin</td>\n",
       "      <td>1</td>\n",
       "      <td>3</td>\n",
       "      <td>2020-01-01</td>\n",
       "      <td>48</td>\n",
       "      <td>Good</td>\n",
       "      <td>PM2.5</td>\n",
       "      <td>01-003-0010</td>\n",
       "      <td>1</td>\n",
       "      <td>1</td>\n",
       "      <td>1</td>\n",
       "    </tr>\n",
       "    <tr>\n",
       "      <th>1</th>\n",
       "      <td>Alabama</td>\n",
       "      <td>Baldwin</td>\n",
       "      <td>1</td>\n",
       "      <td>3</td>\n",
       "      <td>2020-01-04</td>\n",
       "      <td>13</td>\n",
       "      <td>Good</td>\n",
       "      <td>PM2.5</td>\n",
       "      <td>01-003-0010</td>\n",
       "      <td>1</td>\n",
       "      <td>1</td>\n",
       "      <td>4</td>\n",
       "    </tr>\n",
       "    <tr>\n",
       "      <th>2</th>\n",
       "      <td>Alabama</td>\n",
       "      <td>Baldwin</td>\n",
       "      <td>1</td>\n",
       "      <td>3</td>\n",
       "      <td>2020-01-07</td>\n",
       "      <td>14</td>\n",
       "      <td>Good</td>\n",
       "      <td>PM2.5</td>\n",
       "      <td>01-003-0010</td>\n",
       "      <td>1</td>\n",
       "      <td>1</td>\n",
       "      <td>7</td>\n",
       "    </tr>\n",
       "    <tr>\n",
       "      <th>3</th>\n",
       "      <td>Alabama</td>\n",
       "      <td>Baldwin</td>\n",
       "      <td>1</td>\n",
       "      <td>3</td>\n",
       "      <td>2020-01-10</td>\n",
       "      <td>39</td>\n",
       "      <td>Good</td>\n",
       "      <td>PM2.5</td>\n",
       "      <td>01-003-0010</td>\n",
       "      <td>1</td>\n",
       "      <td>1</td>\n",
       "      <td>10</td>\n",
       "    </tr>\n",
       "    <tr>\n",
       "      <th>4</th>\n",
       "      <td>Alabama</td>\n",
       "      <td>Baldwin</td>\n",
       "      <td>1</td>\n",
       "      <td>3</td>\n",
       "      <td>2020-01-13</td>\n",
       "      <td>29</td>\n",
       "      <td>Good</td>\n",
       "      <td>PM2.5</td>\n",
       "      <td>01-003-0010</td>\n",
       "      <td>1</td>\n",
       "      <td>1</td>\n",
       "      <td>13</td>\n",
       "    </tr>\n",
       "  </tbody>\n",
       "</table>\n",
       "</div>"
      ],
      "text/plain": [
       "  State Name county Name  State Code  County Code        Date  AQI Category  \\\n",
       "0    Alabama     Baldwin           1            3  2020-01-01   48     Good   \n",
       "1    Alabama     Baldwin           1            3  2020-01-04   13     Good   \n",
       "2    Alabama     Baldwin           1            3  2020-01-07   14     Good   \n",
       "3    Alabama     Baldwin           1            3  2020-01-10   39     Good   \n",
       "4    Alabama     Baldwin           1            3  2020-01-13   29     Good   \n",
       "\n",
       "  Defining Parameter Defining Site  Number of Sites Reporting  Month  Day  \n",
       "0              PM2.5   01-003-0010                          1      1    1  \n",
       "1              PM2.5   01-003-0010                          1      1    4  \n",
       "2              PM2.5   01-003-0010                          1      1    7  \n",
       "3              PM2.5   01-003-0010                          1      1   10  \n",
       "4              PM2.5   01-003-0010                          1      1   13  "
      ]
     },
     "execution_count": 6,
     "metadata": {},
     "output_type": "execute_result"
    }
   ],
   "source": [
    "#ADD MONTH AND DAY\n",
    "daily_county = epa_data.get('daily_county_aqi')\n",
    "\n",
    "daily_county['Month'] = pd.DatetimeIndex(daily_county['Date']).month\n",
    "daily_county['Day'] = pd.DatetimeIndex(daily_county['Date']).day\n",
    "\n",
    "daily_county.head()"
   ]
  },
  {
   "cell_type": "code",
   "execution_count": 7,
   "id": "a01fb006",
   "metadata": {
    "deletable": false,
    "editable": false
   },
   "outputs": [
    {
     "data": {
      "text/html": [
       "<p><strong><pre style='display: inline;'>q1a</pre></strong> passed!</p>"
      ],
      "text/plain": [
       "q1a results: All test cases passed!"
      ]
     },
     "execution_count": 7,
     "metadata": {},
     "output_type": "execute_result"
    }
   ],
   "source": [
    "grader.check(\"q1a\")"
   ]
  },
  {
   "cell_type": "markdown",
   "id": "d7aac1d3",
   "metadata": {
    "deletable": false,
    "editable": false
   },
   "source": [
    "<br/>\n",
    "\n",
    "### Question 1b: California Data\n",
    "\n",
    "Currently, `epa_data` contains data for **all** counties in the United States. For the guided part of this project, we are specifically going to be focusing on AQI data for counties in California only. Your task is to assign `epa_data_CA` a dictionary mapping table names to dataframes. This map should have the same contents as `epa_data` but only tables that contain **daily data** in the state of `California`.\n",
    "\n",
    "<!--\n",
    "BEGIN QUESTION\n",
    "name: q1b\n",
    "points: 3\n",
    "-->"
   ]
  },
  {
   "cell_type": "code",
   "execution_count": 8,
   "id": "0b203093",
   "metadata": {},
   "outputs": [
    {
     "data": {
      "text/html": [
       "<div>\n",
       "<style scoped>\n",
       "    .dataframe tbody tr th:only-of-type {\n",
       "        vertical-align: middle;\n",
       "    }\n",
       "\n",
       "    .dataframe tbody tr th {\n",
       "        vertical-align: top;\n",
       "    }\n",
       "\n",
       "    .dataframe thead th {\n",
       "        text-align: right;\n",
       "    }\n",
       "</style>\n",
       "<table border=\"1\" class=\"dataframe\">\n",
       "  <thead>\n",
       "    <tr style=\"text-align: right;\">\n",
       "      <th></th>\n",
       "      <th>State Name</th>\n",
       "      <th>county Name</th>\n",
       "      <th>State Code</th>\n",
       "      <th>County Code</th>\n",
       "      <th>Date</th>\n",
       "      <th>AQI</th>\n",
       "      <th>Category</th>\n",
       "      <th>Defining Parameter</th>\n",
       "      <th>Defining Site</th>\n",
       "      <th>Number of Sites Reporting</th>\n",
       "      <th>Month</th>\n",
       "      <th>Day</th>\n",
       "    </tr>\n",
       "  </thead>\n",
       "  <tbody>\n",
       "    <tr>\n",
       "      <th>14003</th>\n",
       "      <td>California</td>\n",
       "      <td>Alameda</td>\n",
       "      <td>6</td>\n",
       "      <td>1</td>\n",
       "      <td>2020-01-01</td>\n",
       "      <td>53</td>\n",
       "      <td>Moderate</td>\n",
       "      <td>PM2.5</td>\n",
       "      <td>06-001-0009</td>\n",
       "      <td>7</td>\n",
       "      <td>1</td>\n",
       "      <td>1</td>\n",
       "    </tr>\n",
       "    <tr>\n",
       "      <th>14004</th>\n",
       "      <td>California</td>\n",
       "      <td>Alameda</td>\n",
       "      <td>6</td>\n",
       "      <td>1</td>\n",
       "      <td>2020-01-02</td>\n",
       "      <td>43</td>\n",
       "      <td>Good</td>\n",
       "      <td>PM2.5</td>\n",
       "      <td>06-001-0013</td>\n",
       "      <td>7</td>\n",
       "      <td>1</td>\n",
       "      <td>2</td>\n",
       "    </tr>\n",
       "    <tr>\n",
       "      <th>14005</th>\n",
       "      <td>California</td>\n",
       "      <td>Alameda</td>\n",
       "      <td>6</td>\n",
       "      <td>1</td>\n",
       "      <td>2020-01-03</td>\n",
       "      <td>74</td>\n",
       "      <td>Moderate</td>\n",
       "      <td>PM2.5</td>\n",
       "      <td>06-001-0013</td>\n",
       "      <td>7</td>\n",
       "      <td>1</td>\n",
       "      <td>3</td>\n",
       "    </tr>\n",
       "    <tr>\n",
       "      <th>14006</th>\n",
       "      <td>California</td>\n",
       "      <td>Alameda</td>\n",
       "      <td>6</td>\n",
       "      <td>1</td>\n",
       "      <td>2020-01-04</td>\n",
       "      <td>45</td>\n",
       "      <td>Good</td>\n",
       "      <td>PM2.5</td>\n",
       "      <td>06-001-0007</td>\n",
       "      <td>7</td>\n",
       "      <td>1</td>\n",
       "      <td>4</td>\n",
       "    </tr>\n",
       "    <tr>\n",
       "      <th>14007</th>\n",
       "      <td>California</td>\n",
       "      <td>Alameda</td>\n",
       "      <td>6</td>\n",
       "      <td>1</td>\n",
       "      <td>2020-01-05</td>\n",
       "      <td>33</td>\n",
       "      <td>Good</td>\n",
       "      <td>PM2.5</td>\n",
       "      <td>06-001-0007</td>\n",
       "      <td>7</td>\n",
       "      <td>1</td>\n",
       "      <td>5</td>\n",
       "    </tr>\n",
       "  </tbody>\n",
       "</table>\n",
       "</div>"
      ],
      "text/plain": [
       "       State Name county Name  State Code  County Code        Date  AQI  \\\n",
       "14003  California     Alameda           6            1  2020-01-01   53   \n",
       "14004  California     Alameda           6            1  2020-01-02   43   \n",
       "14005  California     Alameda           6            1  2020-01-03   74   \n",
       "14006  California     Alameda           6            1  2020-01-04   45   \n",
       "14007  California     Alameda           6            1  2020-01-05   33   \n",
       "\n",
       "       Category Defining Parameter Defining Site  Number of Sites Reporting  \\\n",
       "14003  Moderate              PM2.5   06-001-0009                          7   \n",
       "14004      Good              PM2.5   06-001-0013                          7   \n",
       "14005  Moderate              PM2.5   06-001-0013                          7   \n",
       "14006      Good              PM2.5   06-001-0007                          7   \n",
       "14007      Good              PM2.5   06-001-0007                          7   \n",
       "\n",
       "       Month  Day  \n",
       "14003      1    1  \n",
       "14004      1    2  \n",
       "14005      1    3  \n",
       "14006      1    4  \n",
       "14007      1    5  "
      ]
     },
     "execution_count": 8,
     "metadata": {},
     "output_type": "execute_result"
    }
   ],
   "source": [
    "epa_data_CA = {}\n",
    "for name in epa_data:\n",
    "    if name == \"aqs_sites\" or name == \"annual_county_aqi\":\n",
    "        continue\n",
    "    name_data = epa_data.get(name)\n",
    "    epa_data_CA[name] = name_data[name_data[\"State Name\"] == \"California\"]\n",
    "    \n",
    "epa_data_CA.get('daily_county_aqi').head()"
   ]
  },
  {
   "cell_type": "code",
   "execution_count": 9,
   "id": "3ff29afa",
   "metadata": {
    "deletable": false,
    "editable": false
   },
   "outputs": [
    {
     "data": {
      "text/html": [
       "<p><strong><pre style='display: inline;'>q1b</pre></strong> passed!</p>"
      ],
      "text/plain": [
       "q1b results: All test cases passed!"
      ]
     },
     "execution_count": 9,
     "metadata": {},
     "output_type": "execute_result"
    }
   ],
   "source": [
    "grader.check(\"q1b\")"
   ]
  },
  {
   "cell_type": "markdown",
   "id": "cbd789c4",
   "metadata": {
    "deletable": false,
    "editable": false
   },
   "source": [
    "<br/>\n",
    "\n",
    "### Question 1c: Merging Site Information\n",
    "\n",
    "Now take a look at this [link](https://www.epa.gov/outdoor-air-quality-data/about-air-data-reports) and look under \"Site ID\". For later analysis, we want to first get the latitude and longitudes of each of the measurements in the `daily_county_aqi` table by merging two or more tables in `epa_data_CA` (one of the tables is `daily_county_aqi`).\n",
    "\n",
    "Our final merged table should be assigned to `epa_data_CA_merged` and the result should contain the following columns: `State Name`, `county Name`, `Month`, `Day`, `AQI`, `Category`, `Defining Site`, `Latitude`, and `Longitude`\n",
    "\n",
    "<!--\n",
    "BEGIN QUESTION\n",
    "name: q1c\n",
    "points: 4\n",
    "-->"
   ]
  },
  {
   "cell_type": "code",
   "execution_count": 10,
   "id": "be28f7dc",
   "metadata": {},
   "outputs": [
    {
     "data": {
      "text/plain": [
       "(19225, 9)"
      ]
     },
     "execution_count": 10,
     "metadata": {},
     "output_type": "execute_result"
    }
   ],
   "source": [
    "# MERGE SITE DATA\n",
    "special_cols = ['State Name', 'county Name', 'Month', 'Day', 'AQI', 'Category', 'Defining Site', 'Latitude', 'Longitude']\n",
    "daily_county_CA = epa_data_CA['daily_county_aqi']\n",
    "\n",
    "daily_county_CA[\"Site Number\"] = (daily_county_CA[\"Defining Site\"].str.split(\"-\").str[2]).astype(\"int64\")\n",
    "daily_county_CA[\"State Code\"] = daily_county_CA[\"Defining Site\"].str.split(\"-\").str[0].astype(\"int64\")\n",
    "daily_county_CA[\"County Code\"] = (daily_county_CA[\"Defining Site\"].str.split(\"-\").str[1]).astype(\"int64\")\n",
    "\n",
    "epa_data['aqs_sites']['State Code'] = pd.to_numeric(epa_data['aqs_sites']['State Code'], errors = \"coerce\")\n",
    "\n",
    "epa_data_CA_merged = daily_county_CA.merge(epa_data['aqs_sites'], on = ['State Code', \"County Code\", \"Site Number\"])\n",
    "epa_data_CA_merged = epa_data_CA_merged.rename(columns = {\"State Name_x\" : \"State Name\", \"count Name_y\" : \"county Name\"})\n",
    "epa_data_CA_merged = epa_data_CA_merged[special_cols]\n",
    "\n",
    "epa_data_CA_merged.shape"
   ]
  },
  {
   "cell_type": "code",
   "execution_count": 11,
   "id": "86b3e2aa",
   "metadata": {
    "deletable": false,
    "editable": false
   },
   "outputs": [
    {
     "data": {
      "text/html": [
       "<p><strong><pre style='display: inline;'>q1c</pre></strong> passed!</p>"
      ],
      "text/plain": [
       "q1c results: All test cases passed!"
      ]
     },
     "execution_count": 11,
     "metadata": {},
     "output_type": "execute_result"
    }
   ],
   "source": [
    "grader.check(\"q1c\")"
   ]
  },
  {
   "cell_type": "markdown",
   "id": "0934d18f",
   "metadata": {
    "deletable": false,
    "editable": false
   },
   "source": [
    "<br/>\n",
    "\n",
    "### Question 2a - Cleaning Traffic Data \n",
    "\n",
    "Throughout this project, you will be using other datasets to assist with analysis and predictions. Traditionally, to join dataframes we need to join on a specific column with shared values. However, when it comes to locations, exact latitudes and longitudes are hard to come by since it is a continuous space. First, lets look at such a dataset that we may want to merge on with `epa_data_CA_merged`. \n",
    "\n",
    "In the below cell, we have loaded in the `traffic_data` dataset, which contains traffic data for various locations in California. Your task is to clean this table so that it includes only the following columns (you may have to rename some): `District`, `Route`, `County`, `Descriptn`, `AADT`, `Latitude`, `Longitude`, where `AADT` is found by taking the sum of the back and ahead `AADT`s (you may run into some issues with cleaning the data in order to add these columns - `.str` functions may help with this). The metric AADT, annual average daily traffic, is calculated as the sum of the traffic north of the route (ahead AADT) and south of the route (back AADT). You also need to make sure to clean and remove any illegal values from the dataframe (hint: check `Latitude` and `Longitude`).\n",
    "\n",
    "*Hint:* `str` functions you will likely use: `.strip()`, `.replace()`.\n",
    "\n",
    "<!--\n",
    "BEGIN QUESTION\n",
    "name: q2a\n",
    "points: 3\n",
    "-->"
   ]
  },
  {
   "cell_type": "code",
   "execution_count": 12,
   "id": "fbd51a57",
   "metadata": {},
   "outputs": [
    {
     "data": {
      "text/html": [
       "<div>\n",
       "<style scoped>\n",
       "    .dataframe tbody tr th:only-of-type {\n",
       "        vertical-align: middle;\n",
       "    }\n",
       "\n",
       "    .dataframe tbody tr th {\n",
       "        vertical-align: top;\n",
       "    }\n",
       "\n",
       "    .dataframe thead th {\n",
       "        text-align: right;\n",
       "    }\n",
       "</style>\n",
       "<table border=\"1\" class=\"dataframe\">\n",
       "  <thead>\n",
       "    <tr style=\"text-align: right;\">\n",
       "      <th></th>\n",
       "      <th>District</th>\n",
       "      <th>Route</th>\n",
       "      <th>County</th>\n",
       "      <th>Descriptn</th>\n",
       "      <th>AADT</th>\n",
       "      <th>Latitude</th>\n",
       "      <th>Longitude</th>\n",
       "    </tr>\n",
       "  </thead>\n",
       "  <tbody>\n",
       "    <tr>\n",
       "      <th>0</th>\n",
       "      <td>1</td>\n",
       "      <td>1</td>\n",
       "      <td>MEN</td>\n",
       "      <td>SONOMA/MENDOCINO COUNTY LINE</td>\n",
       "      <td>4000</td>\n",
       "      <td>38.759843</td>\n",
       "      <td>-123.518503</td>\n",
       "    </tr>\n",
       "    <tr>\n",
       "      <th>1</th>\n",
       "      <td>1</td>\n",
       "      <td>1</td>\n",
       "      <td>MEN</td>\n",
       "      <td>NORTH LIMITS GUALALA</td>\n",
       "      <td>7100</td>\n",
       "      <td>38.770046</td>\n",
       "      <td>-123.531890</td>\n",
       "    </tr>\n",
       "    <tr>\n",
       "      <th>2</th>\n",
       "      <td>1</td>\n",
       "      <td>1</td>\n",
       "      <td>MEN</td>\n",
       "      <td>FISH ROCK ROAD</td>\n",
       "      <td>6200</td>\n",
       "      <td>38.803549</td>\n",
       "      <td>-123.585411</td>\n",
       "    </tr>\n",
       "    <tr>\n",
       "      <th>3</th>\n",
       "      <td>1</td>\n",
       "      <td>1</td>\n",
       "      <td>MEN</td>\n",
       "      <td>POINT ARENA, SOUTH CITY LIMITS</td>\n",
       "      <td>4600</td>\n",
       "      <td>38.903973</td>\n",
       "      <td>-123.691513</td>\n",
       "    </tr>\n",
       "    <tr>\n",
       "      <th>4</th>\n",
       "      <td>1</td>\n",
       "      <td>1</td>\n",
       "      <td>MEN</td>\n",
       "      <td>POINT ARENA, RIVERSIDE DRIVE</td>\n",
       "      <td>5000</td>\n",
       "      <td>38.910913</td>\n",
       "      <td>-123.692410</td>\n",
       "    </tr>\n",
       "  </tbody>\n",
       "</table>\n",
       "</div>"
      ],
      "text/plain": [
       "   District  Route County                       Descriptn  AADT   Latitude  \\\n",
       "0         1      1    MEN    SONOMA/MENDOCINO COUNTY LINE  4000  38.759843   \n",
       "1         1      1    MEN            NORTH LIMITS GUALALA  7100  38.770046   \n",
       "2         1      1    MEN                  FISH ROCK ROAD  6200  38.803549   \n",
       "3         1      1    MEN  POINT ARENA, SOUTH CITY LIMITS  4600  38.903973   \n",
       "4         1      1    MEN    POINT ARENA, RIVERSIDE DRIVE  5000  38.910913   \n",
       "\n",
       "    Longitude  \n",
       "0 -123.518503  \n",
       "1 -123.531890  \n",
       "2 -123.585411  \n",
       "3 -123.691513  \n",
       "4 -123.692410  "
      ]
     },
     "execution_count": 12,
     "metadata": {},
     "output_type": "execute_result"
    }
   ],
   "source": [
    "traffic_data = pd.read_csv(\"data/Traffic_Volumes_AADT.csv\")\n",
    "traffic_data[\"AADT\"] = traffic_data[\"Back_AADT\"].str.strip().replace({'':0}).astype(\"int64\") + traffic_data[\"Ahead_AADT\"].str.strip().replace({'':0}).astype(\"int64\")\n",
    "traffic_data[\"Longitude\"] = pd.to_numeric(traffic_data[\"Lon_S_or_W\"], errors = \"coerce\")\n",
    "traffic_data[\"Latitude\"] = pd.to_numeric(traffic_data[\"Lat_S_or_W\"], errors = \"coerce\")\n",
    "traffic_data_cleaned = traffic_data[[\"District\", \"Route\", \"County\", \"Descriptn\", \"AADT\", \"Latitude\", \"Longitude\"]].dropna()\n",
    "\n",
    "traffic_data_cleaned.head()"
   ]
  },
  {
   "cell_type": "code",
   "execution_count": 13,
   "id": "302e1457",
   "metadata": {
    "deletable": false,
    "editable": false
   },
   "outputs": [
    {
     "data": {
      "text/html": [
       "<p><strong><pre style='display: inline;'>q2a</pre></strong> passed!</p>"
      ],
      "text/plain": [
       "q2a results: All test cases passed!"
      ]
     },
     "execution_count": 13,
     "metadata": {},
     "output_type": "execute_result"
    }
   ],
   "source": [
    "grader.check(\"q2a\")"
   ]
  },
  {
   "cell_type": "markdown",
   "id": "67e35cda",
   "metadata": {
    "deletable": false,
    "editable": false
   },
   "source": [
    "### Question 2b - Merging on Traffic Data \n",
    "\n",
    "Traditionally, we could employ some sort of join where we join `epa_data_CA_merged` rows with the row in `traffic_data` that it is the \"closest\" to, as measured by euclidean distance. As you can imagine, this can be quite tedious so instead we will use a special type of join called a **spatial join**, which can be done using the package `geopandas`, which is imported as `gpd`. The documentation for `geopandas` is linked [here](https://geopandas.org/docs/reference/api/geopandas.sjoin_nearest.html). Please use this as a resource to do the following tasks: \n",
    "\n",
    " - turn `traffic_data_cleaned` and `epa_data_CA_merged` into a geopandas dataframe using the latitude and longitude.\n",
    " - Use a spatial join (which function is this in the documentation?) to match the correct traffic row information to each entry in `epa_data_CA_merged`. \n",
    "\n",
    "Your final dataframe should be assigned to `gpd_epa_traffic` with the following columns: `State Name`, `county Name`, `Month`, `Day`, `AQI`, `Category`, `Defining Site`, `Site Lat`, `Site Long`, `Traffic Lat`, `Traffic Long`, `Descriptn`, and `AADT`.\n",
    "\n",
    "<!--\n",
    "BEGIN QUESTION\n",
    "name: q2b\n",
    "points: 2\n",
    "-->"
   ]
  },
  {
   "cell_type": "code",
   "execution_count": 14,
   "id": "eef79865",
   "metadata": {},
   "outputs": [
    {
     "data": {
      "text/plain": [
       "(19827, 13)"
      ]
     },
     "execution_count": 14,
     "metadata": {},
     "output_type": "execute_result"
    }
   ],
   "source": [
    "tdc = gpd.GeoDataFrame(traffic_data_cleaned, geometry=gpd.points_from_xy(traffic_data_cleaned.Longitude, traffic_data_cleaned.Latitude))\n",
    "df_copy = epa_data_CA_merged.copy()\n",
    "epa = gpd.GeoDataFrame(df_copy, geometry=gpd.points_from_xy(epa_data_CA_merged.Longitude, epa_data_CA_merged.Latitude))\n",
    "gpd_epa_traffic = gpd.sjoin_nearest(epa, tdc)\n",
    "gpd_epa_traffic = gpd_epa_traffic.rename(columns={'Latitude_left' : 'Site Lat', 'Longitude_left' : 'Site Long', 'Latitude_right' : 'Traffic Lat', 'Longitude_right' : 'Traffic Long'})\n",
    "gpd_epa_traffic = gpd_epa_traffic[['State Name', 'county Name', 'Month', 'Day', 'AQI', 'Category', 'Defining Site', 'Site Lat', 'Site Long', 'Traffic Lat', 'Traffic Long', 'Descriptn', 'AADT']]\n",
    "\n",
    "gpd_epa_traffic.shape"
   ]
  },
  {
   "cell_type": "code",
   "execution_count": 15,
   "id": "b551886e",
   "metadata": {
    "deletable": false,
    "editable": false
   },
   "outputs": [
    {
     "data": {
      "text/html": [
       "<p><strong><pre style='display: inline;'>q2b</pre></strong> passed!</p>"
      ],
      "text/plain": [
       "q2b results: All test cases passed!"
      ]
     },
     "execution_count": 15,
     "metadata": {},
     "output_type": "execute_result"
    }
   ],
   "source": [
    "grader.check(\"q2b\")"
   ]
  },
  {
   "cell_type": "markdown",
   "id": "cc72f6c9",
   "metadata": {},
   "source": [
    "<br/><br/>\n",
    "\n",
    "---\n",
    "## Section 2: Guided EDA\n"
   ]
  },
  {
   "cell_type": "markdown",
   "id": "07b60cd6",
   "metadata": {
    "deletable": false,
    "editable": false
   },
   "source": [
    "### Question 3a: Initial AQI Analysis\n",
    "\n",
    "Assign a `pd.Series` object to `worst_median_aqis` that contains the states with the top 10 worst median AQIs throughout the year 2020, as measured by the average median AQIs across all counties for a single state. Your result should have index `state`, the column value should be labelled `Average Median AQI`, and it should be arranged in descending order.\n",
    "\n",
    "Now, assign the same thing to `worst_max_aqis`, except instead of aggregating the average median AQIs across all counties, aggregate the average **max AQIs** across all counties. Your result should have the same shape and labels as before, except the column value should be labelled `Average Max AQI`. \n",
    "\n",
    "Note: you may have to remove a few regions in your tables. Make sure every entry in your output is a **US State**.\n",
    "\n",
    "<!--\n",
    "BEGIN QUESTION\n",
    "name: q3a\n",
    "points: 2\n",
    "-->"
   ]
  },
  {
   "cell_type": "code",
   "execution_count": 16,
   "id": "61aac8a2",
   "metadata": {},
   "outputs": [
    {
     "name": "stdout",
     "output_type": "stream",
     "text": [
      "Worst Median AQI : \n",
      "State\n",
      "California       48.018868\n",
      "Arizona          47.307692\n",
      "Utah             41.066667\n",
      "Connecticut      39.125000\n",
      "Delaware         38.000000\n",
      "Mississippi      37.200000\n",
      "New Jersey       36.937500\n",
      "Massachusetts    36.538462\n",
      "Nevada           36.222222\n",
      "Pennsylvania     35.756098\n",
      "Name: Median AQI, dtype: float64\n",
      "\n",
      "Worst Max AQI : \n",
      "State\n",
      "Oregon          430.347826\n",
      "Washington      334.419355\n",
      "California      286.981132\n",
      "Arizona         238.230769\n",
      "Idaho           197.857143\n",
      "Wyoming         196.666667\n",
      "Nevada          196.666667\n",
      "Montana         137.421053\n",
      "Rhode Island    133.000000\n",
      "Connecticut     124.750000\n",
      "Name: Max AQI, dtype: float64\n"
     ]
    },
    {
     "data": {
      "text/plain": [
       "array([430.35, 334.42, 286.98, 238.23, 197.86, 196.67, 196.67, 137.42,\n",
       "       133.  , 124.75])"
      ]
     },
     "execution_count": 16,
     "metadata": {},
     "output_type": "execute_result"
    }
   ],
   "source": [
    "US_ONLY = epa_data['annual_county_aqi']\n",
    "US_ONLY = US_ONLY[~US_ONLY['State'].isin(['Virgin Islands', 'Country Of Mexico', 'District Of Columbia', 'Puerto Rico'])]\n",
    "\n",
    "worst_median_aqis = US_ONLY.groupby(\"State\").mean()[\"Median AQI\"].sort_values(ascending = False).head(10)\n",
    "worst_max_aqis = US_ONLY.groupby(\"State\").mean()[\"Max AQI\"].sort_values(ascending = False).head(10)\n",
    "\n",
    "print(\"Worst Median AQI : \\n{}\\n\".format(worst_median_aqis))\n",
    "print(\"Worst Max AQI : \\n{}\".format(worst_max_aqis))\n",
    "\n",
    "np.round(list(worst_max_aqis), 2)"
   ]
  },
  {
   "cell_type": "code",
   "execution_count": 17,
   "id": "308f7328",
   "metadata": {
    "deletable": false,
    "editable": false
   },
   "outputs": [
    {
     "data": {
      "text/html": [
       "<p><strong><pre style='display: inline;'>q3a</pre></strong> passed!</p>"
      ],
      "text/plain": [
       "q3a results: All test cases passed!"
      ]
     },
     "execution_count": 17,
     "metadata": {},
     "output_type": "execute_result"
    }
   ],
   "source": [
    "grader.check(\"q3a\")"
   ]
  },
  {
   "cell_type": "markdown",
   "id": "2ed7af0d",
   "metadata": {
    "deletable": false,
    "editable": false,
    "tags": []
   },
   "source": [
    "<!-- BEGIN QUESTION -->\n",
    "\n",
    "<br/>\n",
    "\n",
    "### Question 3b: Worst AQI States\n",
    "\n",
    "What are the states that are in both of the top 10 lists? Why do you think most of these states are on both of the lists?\n",
    "\n",
    "<!--\n",
    "BEGIN QUESTION\n",
    "name: q3b\n",
    "manual: True\n",
    "points: 2\n",
    "-->"
   ]
  },
  {
   "cell_type": "markdown",
   "id": "5afe8e40",
   "metadata": {},
   "source": [
    "The states that are in both of the top 10 lists are California and Arizona. It makes sense for California to be on here, since it hosts a large population that strain the environment's health with high use of factories and vehicles. Arizona is not as populated as other states, however it could be affected by weather issues or geological issues that cause a consistent high AQI."
   ]
  },
  {
   "cell_type": "markdown",
   "id": "129b9ef4",
   "metadata": {
    "deletable": false,
    "editable": false
   },
   "source": [
    "<!-- END QUESTION -->\n",
    "\n",
    "<br/>\n",
    "\n",
    "### Question 4a: Missing AQI Data\n",
    "\n",
    "We want to see the accessibility of the AQI data across states. In the following cell, assign `days_with_AQI` to a series that contains the state as the index and the average number of days with AQI entries across all counties in that state as the value. Make sure to label the series as `Days with AQI` and sort in ascending order (smallest average number of days at the top). As before, make sure to remove the regions that are not **US States** from your series.\n",
    "\n",
    "<!--\n",
    "BEGIN QUESTION\n",
    "name: q4a\n",
    "points: 2\n",
    "-->"
   ]
  },
  {
   "cell_type": "code",
   "execution_count": 18,
   "id": "200bab31",
   "metadata": {},
   "outputs": [
    {
     "data": {
      "text/plain": [
       "State Name\n",
       "Alaska        235.222222\n",
       "Arkansas      251.545455\n",
       "New Mexico    264.062500\n",
       "Virginia      265.303030\n",
       "Colorado      278.892857\n",
       "dtype: float64"
      ]
     },
     "execution_count": 18,
     "metadata": {},
     "output_type": "execute_result"
    }
   ],
   "source": [
    "def count_avg(x):\n",
    "    return np.mean(x.groupby('county Name').size())\n",
    "\n",
    "US_ONLY_daily = epa_data[\"daily_county_aqi\"]\n",
    "US_ONLY_daily = US_ONLY_daily[~US_ONLY_daily['State Name'].isin(['Virgin Islands', 'Country Of Mexico', 'District Of Columbia', 'Puerto Rico'])]\n",
    "\n",
    "days_with_AQI = US_ONLY_daily.groupby(\"State Name\").apply(count_avg).sort_values(ascending = True).head(10)\n",
    "days_with_AQI.head()"
   ]
  },
  {
   "cell_type": "code",
   "execution_count": 19,
   "id": "c7982396",
   "metadata": {
    "deletable": false,
    "editable": false
   },
   "outputs": [
    {
     "data": {
      "text/html": [
       "<p><strong><pre style='display: inline;'>q4a</pre></strong> passed!</p>"
      ],
      "text/plain": [
       "q4a results: All test cases passed!"
      ]
     },
     "execution_count": 19,
     "metadata": {},
     "output_type": "execute_result"
    }
   ],
   "source": [
    "grader.check(\"q4a\")"
   ]
  },
  {
   "cell_type": "markdown",
   "id": "77eeaccc",
   "metadata": {},
   "source": [
    "<br/>\n",
    "\n",
    "### Question 4b: What are the missing dates?\n",
    "\n",
    "In the following cell, we create the series `ca_aqi_days` that outputs a series with each county in California mapped to the number of days that they have AQI data on. Notice that there exists a few counties without the full year of data, which is what you will be taking a closer look at in the following two parts."
   ]
  },
  {
   "cell_type": "code",
   "execution_count": 20,
   "id": "9442b8cb",
   "metadata": {},
   "outputs": [
    {
     "data": {
      "text/plain": [
       "54    274\n",
       "96    331\n",
       "63    351\n",
       "98    353\n",
       "49    359\n",
       "76    360\n",
       "51    364\n",
       "57    364\n",
       "72    365\n",
       "79    366\n",
       "81    366\n",
       "82    366\n",
       "83    366\n",
       "84    366\n",
       "85    366\n",
       "80    366\n",
       "86    366\n",
       "48    366\n",
       "88    366\n",
       "78    366\n",
       "90    366\n",
       "91    366\n",
       "92    366\n",
       "93    366\n",
       "94    366\n",
       "95    366\n",
       "97    366\n",
       "87    366\n",
       "89    366\n",
       "74    366\n",
       "75    366\n",
       "50    366\n",
       "52    366\n",
       "53    366\n",
       "55    366\n",
       "56    366\n",
       "58    366\n",
       "59    366\n",
       "60    366\n",
       "61    366\n",
       "77    366\n",
       "62    366\n",
       "65    366\n",
       "66    366\n",
       "67    366\n",
       "68    366\n",
       "69    366\n",
       "70    366\n",
       "71    366\n",
       "73    366\n",
       "Name: Days with AQI, dtype: int64"
      ]
     },
     "execution_count": 20,
     "metadata": {},
     "output_type": "execute_result"
    }
   ],
   "source": [
    "ca_annual_data = epa_data.get('annual_county_aqi')[epa_data.get('annual_county_aqi')['State'] == 'California']\n",
    "ca_aqi_days = ca_annual_data['Days with AQI'].sort_values()\n",
    "ca_aqi_days.rename(\"Days with AQI\")\n",
    "ca_aqi_days.head(50)"
   ]
  },
  {
   "cell_type": "markdown",
   "id": "792d52bc",
   "metadata": {
    "deletable": false,
    "editable": false
   },
   "source": [
    "#### Question 4bi: Missing Days\n",
    "\n",
    "Assign `county_to_missing_dates` to a dictionary that maps each county with less than the full year of data to the dates that have missing AQI data. Make sure that your keys are just the county name (no whitespace around it or `, California` appended to it) and the values are of the format `yyyy-mm-dd`.\n",
    "\n",
    "<!--\n",
    "BEGIN QUESTION\n",
    "name: q4i\n",
    "points: 2\n",
    "-->"
   ]
  },
  {
   "cell_type": "code",
   "execution_count": 21,
   "id": "6c64da0f",
   "metadata": {},
   "outputs": [
    {
     "data": {
      "text/plain": [
       "{'Amador': array(['2020-01-04', '2020-01-05', '2020-01-06', '2020-01-07',\n",
       "        '2020-08-24', '2020-10-17', '2020-10-18'], dtype='<U10'),\n",
       " 'Calaveras': array(['2020-06-04', '2020-09-21'], dtype='<U10'),\n",
       " 'Del Norte': array(['2020-01-15', '2020-01-16', '2020-01-17', '2020-01-18',\n",
       "        '2020-01-20', '2020-01-21', '2020-01-23', '2020-03-14',\n",
       "        '2020-03-15', '2020-04-22', '2020-04-23', '2020-04-25',\n",
       "        '2020-04-26', '2020-04-28', '2020-04-29', '2020-05-01',\n",
       "        '2020-05-02', '2020-05-04', '2020-05-05', '2020-05-07',\n",
       "        '2020-05-08', '2020-05-10', '2020-05-11', '2020-05-13',\n",
       "        '2020-05-14', '2020-05-16', '2020-05-17', '2020-05-19',\n",
       "        '2020-05-20', '2020-05-22', '2020-05-23', '2020-05-25',\n",
       "        '2020-05-26', '2020-05-28', '2020-05-29', '2020-05-31',\n",
       "        '2020-06-01', '2020-06-02', '2020-06-03', '2020-06-04',\n",
       "        '2020-06-05', '2020-06-06', '2020-06-07', '2020-06-08',\n",
       "        '2020-06-09', '2020-06-10', '2020-06-11', '2020-06-12',\n",
       "        '2020-06-13', '2020-06-14', '2020-06-15', '2020-06-16',\n",
       "        '2020-06-17', '2020-06-18', '2020-06-19', '2020-06-20',\n",
       "        '2020-06-21', '2020-06-22', '2020-06-23', '2020-06-24',\n",
       "        '2020-06-25', '2020-06-26', '2020-06-27', '2020-06-28',\n",
       "        '2020-06-29', '2020-06-30', '2020-07-01', '2020-07-02',\n",
       "        '2020-07-03', '2020-07-04', '2020-07-05', '2020-07-06',\n",
       "        '2020-07-07', '2020-07-08', '2020-07-09', '2020-07-10',\n",
       "        '2020-07-11', '2020-07-12', '2020-07-13', '2020-07-14',\n",
       "        '2020-07-15', '2020-07-16', '2020-07-17', '2020-07-18',\n",
       "        '2020-07-19', '2020-07-20', '2020-07-21', '2020-09-13',\n",
       "        '2020-09-14', '2020-09-15', '2020-12-02', '2020-12-03'],\n",
       "       dtype='<U10'),\n",
       " 'Glenn': array(['2020-11-08', '2020-11-11'], dtype='<U10'),\n",
       " 'Lake': array(['2020-02-04', '2020-02-05', '2020-02-29', '2020-04-24',\n",
       "        '2020-05-04', '2020-05-05', '2020-05-06', '2020-05-07',\n",
       "        '2020-06-16', '2020-06-17', '2020-08-17', '2020-08-22',\n",
       "        '2020-08-23', '2020-08-24', '2020-10-21'], dtype='<U10'),\n",
       " 'Napa': array(['2020-11-04'], dtype='<U10'),\n",
       " 'Plumas': array(['2020-01-06', '2020-02-16', '2020-02-25', '2020-02-26',\n",
       "        '2020-02-28', '2020-02-29'], dtype='<U10'),\n",
       " 'Trinity': array(['2020-01-29', '2020-02-28', '2020-02-29', '2020-03-02',\n",
       "        '2020-03-03', '2020-07-01', '2020-07-02', '2020-07-03',\n",
       "        '2020-07-04', '2020-07-05', '2020-07-06', '2020-07-08',\n",
       "        '2020-07-09', '2020-07-10', '2020-07-11', '2020-07-12',\n",
       "        '2020-07-13', '2020-07-14', '2020-07-23', '2020-07-24',\n",
       "        '2020-07-25', '2020-07-26', '2020-07-27', '2020-07-28',\n",
       "        '2020-07-29', '2020-07-30', '2020-07-31', '2020-08-01',\n",
       "        '2020-08-02', '2020-08-03', '2020-08-13', '2020-09-27',\n",
       "        '2020-09-28', '2020-12-01', '2020-12-02'], dtype='<U10'),\n",
       " 'Tuolumne': array(['2020-01-08', '2020-01-26', '2020-01-27', '2020-01-28',\n",
       "        '2020-01-29', '2020-01-30', '2020-01-31', '2020-02-01',\n",
       "        '2020-02-02', '2020-02-03', '2020-09-07', '2020-09-08',\n",
       "        '2020-10-25'], dtype='<U10')}"
      ]
     },
     "execution_count": 21,
     "metadata": {},
     "output_type": "execute_result"
    }
   ],
   "source": [
    "county_to_missing_dates = {}\n",
    "cols = [\"State Name\", \"county Name\", \"Date\", \"AQI\", \"Days with AQI\"]\n",
    "daily_CA = epa_data_CA[\"daily_county_aqi\"]\n",
    "\n",
    "missing_counties = ca_annual_data[ca_annual_data[\"Days with AQI\"] < 366][\"County\"]\n",
    "\n",
    "temp = daily_CA.merge(ca_annual_data, left_on = \"county Name\", right_on = \"County\")\n",
    "temp = temp[temp[\"Days with AQI\"] < 366][cols]\n",
    "\n",
    "\n",
    "L = pd.date_range(start='2020-01-01',end='2020-12-31').astype(str).tolist()\n",
    "for x in missing_counties:\n",
    "    this_county = temp[temp[\"county Name\"] == x]\n",
    "    this_county_dates = this_county[\"Date\"].tolist()\n",
    "    county_to_missing_dates[x] = np.setdiff1d(L, this_county_dates)\n",
    "county_to_missing_dates"
   ]
  },
  {
   "cell_type": "code",
   "execution_count": 22,
   "id": "e2470372",
   "metadata": {
    "deletable": false,
    "editable": false
   },
   "outputs": [
    {
     "data": {
      "text/html": [
       "<p><strong><pre style='display: inline;'>q4i</pre></strong> passed!</p>"
      ],
      "text/plain": [
       "q4i results: All test cases passed!"
      ]
     },
     "execution_count": 22,
     "metadata": {},
     "output_type": "execute_result"
    }
   ],
   "source": [
    "grader.check(\"q4i\")"
   ]
  },
  {
   "cell_type": "markdown",
   "id": "ff49cc54",
   "metadata": {
    "deletable": false,
    "editable": false
   },
   "source": [
    "<!-- BEGIN QUESTION -->\n",
    "\n",
    "#### Question 4bii: Missing Days\n",
    "\n",
    "Are there any key missing dates in common between the counties that have missing AQI data? What two counties have the most missing days and why do you think they do?\n",
    "\n",
    "<!--\n",
    "BEGIN QUESTION\n",
    "name: q4bii\n",
    "manual: True\n",
    "points: 2\n",
    "-->"
   ]
  },
  {
   "cell_type": "markdown",
   "id": "07c6c60a",
   "metadata": {},
   "source": [
    "2020-02-29 seems to be a common missing date between these counties that have missing AQI data. Moreover, Del Norte and Trinity County have the most missing days and a possible reason is because they are counties with low populations and are in very isolated areas. Del Norte is in the most northwest part of California, bordering Oregon, with a population of about 28,610 people, while Trinity is located in a very mountainous, forested, and difficult to access region and hasa population of about 12,700 people. This makes sense as to why they have the most missing days in the AQI measurement since it must be difficult to attain AQI measurements in those areas since they are not very accessible and of low priority due to their low populations. Furthermore, there may also have been some event that was preventing these counties from data collection since Trinity County has a lot of missing dates in July and Del Norte County has most of missing dates from May to July."
   ]
  },
  {
   "cell_type": "markdown",
   "id": "fbbc718f",
   "metadata": {},
   "source": [
    "<!-- END QUESTION -->\n",
    "\n",
    "\n",
    "\n",
    "<br/>\n",
    "\n",
    "### Question 5a: AQI over Time "
   ]
  },
  {
   "cell_type": "markdown",
   "id": "aeeba668",
   "metadata": {
    "deletable": false,
    "editable": false
   },
   "source": [
    "Assign `aqi_per_month` to a series of the average aqi per month across all US states and `aqi_per_month_CA` to a series of the average AQI per month across California.\n",
    "\n",
    "<!--\n",
    "BEGIN QUESTION\n",
    "name: q5a\n",
    "points: 1\n",
    "-->"
   ]
  },
  {
   "cell_type": "code",
   "execution_count": 23,
   "id": "a243c2dc",
   "metadata": {},
   "outputs": [
    {
     "name": "stdout",
     "output_type": "stream",
     "text": [
      "AQI per Month: \n",
      "Month\n",
      "1     31.032050\n",
      "2     32.258621\n",
      "3     34.509181\n",
      "4     37.287264\n",
      "5     36.273464\n",
      "6     40.533681\n",
      "7     40.070404\n",
      "8     41.252281\n",
      "9     43.290611\n",
      "10    35.285558\n",
      "11    34.184020\n",
      "12    34.990632\n",
      "Name: AQI, dtype: float64\n",
      "\n",
      "AQI per Month California : \n",
      "Month\n",
      "1      46.346888\n",
      "2      47.110236\n",
      "3      40.114094\n",
      "4      41.443462\n",
      "5      49.538319\n",
      "6      47.996146\n",
      "7      56.069375\n",
      "8      79.960220\n",
      "9     107.020228\n",
      "10     75.491763\n",
      "11     52.070573\n",
      "12     53.645516\n",
      "Name: AQI, dtype: float64\n"
     ]
    }
   ],
   "source": [
    "daily_county = epa_data[\"daily_county_aqi\"]\n",
    "daily_county_CA = epa_data_CA[\"daily_county_aqi\"]\n",
    "aqi_per_month = daily_county.groupby(by=[\"Month\"]).mean()[\"AQI\"]\n",
    "aqi_per_month_CA = daily_county_CA.groupby(by=[\"Month\"]).mean()[\"AQI\"]\n",
    "\n",
    "\n",
    "print(\"AQI per Month: \\n{}\\n\".format(aqi_per_month))\n",
    "print(\"AQI per Month California : \\n{}\".format(aqi_per_month_CA))"
   ]
  },
  {
   "cell_type": "code",
   "execution_count": 24,
   "id": "c03e76e1",
   "metadata": {
    "deletable": false,
    "editable": false
   },
   "outputs": [
    {
     "data": {
      "text/html": [
       "<p><strong><pre style='display: inline;'>q5a</pre></strong> passed!</p>"
      ],
      "text/plain": [
       "q5a results: All test cases passed!"
      ]
     },
     "execution_count": 24,
     "metadata": {},
     "output_type": "execute_result"
    }
   ],
   "source": [
    "grader.check(\"q5a\")"
   ]
  },
  {
   "cell_type": "markdown",
   "id": "738baa95",
   "metadata": {
    "deletable": false,
    "editable": false
   },
   "source": [
    "<!-- BEGIN QUESTION -->\n",
    "\n",
    "<br/>\n",
    "\n",
    "### Question 5b: AQI over Time Analysis \n",
    "\n",
    "Is there anything interesting that you notice in `aqi_per_month_CA`? If so, why do you think that is?\n",
    "\n",
    "<!--\n",
    "BEGIN QUESTION\n",
    "name: q5b\n",
    "manual: True\n",
    "points: 1\n",
    "-->"
   ]
  },
  {
   "cell_type": "markdown",
   "id": "bf8fcea7",
   "metadata": {},
   "source": [
    "\n",
    "It is noticeable that the average AQI per month in California is significantly higher than the national average for each and every month. Furthermore, the AQI per month sharply increases midyear for California, while this doesn't seem to occur with the national average. This could be explained by the extreme heat in California during the midyear times, which led to many forest fires during this time of the year. As we know, forest fires are large contributors to air pollution."
   ]
  },
  {
   "cell_type": "markdown",
   "id": "e939efa5",
   "metadata": {
    "deletable": false,
    "editable": false
   },
   "source": [
    "<!-- END QUESTION -->\n",
    "\n",
    "<!-- BEGIN QUESTION -->\n",
    "\n",
    "<br/>\n",
    "\n",
    "### Question 5c: Modeling AQI over Time\n",
    "\n",
    "Based on the AQI pattern in the year 2020, if we were to model AQI over the last 10 years, with the average AQI per year being the same, what sort of parametric function $f(x)$ would you use? Let us say that we see a linear increase in the average AQI per year over the last 10 years instead, then what parametric function $g(x)$ would you use?\n",
    "\n",
    "<!--\n",
    "BEGIN QUESTION\n",
    "name: q5c\n",
    "manual: True\n",
    "points: 3\n",
    "-->"
   ]
  },
  {
   "cell_type": "markdown",
   "id": "44e24030",
   "metadata": {},
   "source": [
    "If we were to model AQI over the last 10 years with the average AQI per year being the same, then the parametric function we would use would be a sin function. This is because if we assume the model follows the same trend as we see in 2020, the AQI averages will peak midyear and dip again, meaning over a span of multiple years, the AQI averages would oscillate up and down. For this reason, f(x) = sinx. If we see a linear increase in the average AQI per year over the last 10 years, then the function would we use would be sinx + x, since the oscillations from the sin function would continue, but would be scaled linearly. Therefore, g(x) = sinx + x"
   ]
  },
  {
   "cell_type": "markdown",
   "id": "389dc921",
   "metadata": {},
   "source": [
    "<!-- END QUESTION -->\n",
    "\n",
    "\n",
    "\n",
    "<br/>\n",
    "\n",
    "### Question 6a: Create Heatmap Buckets\n",
    "\n",
    "Now we want to create a function called `bucket_data`, which takes in the following parameters: `table`, `resolution`. It outputs a pivot table with the latitude bucket (smallest latitude for that grid point) on the index and the longitude bucket (smallest longitude for that grid point) on the columns. The values in the pivot table should be the average AQI of the monitor sites inside that respective rectangle grid of latitudes and longitudes. The following should be the output of `bucket_data(epa_data_CA_merged, np.mean, 5)`:\n",
    "\n",
    "<img src=\"images/q6a.png\" width=\"600px\" align=\"center\"/>"
   ]
  },
  {
   "cell_type": "markdown",
   "id": "65b89123",
   "metadata": {
    "deletable": false,
    "editable": false
   },
   "source": [
    "The `resolution` parameter describes the number of buckets that the latitudes and longitudes are divided into on the heatmap. As an example, let us say that the range of longitudes for site monitors are between \\[100, 110\\]; make sure that the start of the range is exactly the **minimum** of all longitude values of your site monitors and the end of the range is the exactly the **maximum** of all longitude values of your site monitors. Let us say that we have a resolution of 10. Then we have the buckets \n",
    "$$([100, 101], [101, 102], ..., [109, 110])$$\n",
    "\n",
    "The column and row labels of this dataframe should be labelled as the **start** of the bucket. In the case of the example above, the names of the buckets should be $ 100, 101, \\dots 109 $. Note that we are just looking at the longitude dimension in this example, and you have to do do the same for the latitude dimension along the rows in order to build the pivot table.\n",
    "\n",
    "Finally, make sure the row and column labels of your pivot table are **exactly** the same as the example given above. \n",
    "<!--\n",
    "BEGIN QUESTION\n",
    "name: q6a\n",
    "points: 6\n",
    "-->"
   ]
  },
  {
   "cell_type": "code",
   "execution_count": 25,
   "id": "7c0eb71f",
   "metadata": {},
   "outputs": [
    {
     "data": {
      "text/html": [
       "<div>\n",
       "<style scoped>\n",
       "    .dataframe tbody tr th:only-of-type {\n",
       "        vertical-align: middle;\n",
       "    }\n",
       "\n",
       "    .dataframe tbody tr th {\n",
       "        vertical-align: top;\n",
       "    }\n",
       "\n",
       "    .dataframe thead tr th {\n",
       "        text-align: left;\n",
       "    }\n",
       "\n",
       "    .dataframe thead tr:last-of-type th {\n",
       "        text-align: right;\n",
       "    }\n",
       "</style>\n",
       "<table border=\"1\" class=\"dataframe\">\n",
       "  <thead>\n",
       "    <tr>\n",
       "      <th></th>\n",
       "      <th colspan=\"5\" halign=\"left\">AQI</th>\n",
       "    </tr>\n",
       "    <tr>\n",
       "      <th>long_bucket</th>\n",
       "      <th>-124.20</th>\n",
       "      <th>-122.28</th>\n",
       "      <th>-120.36</th>\n",
       "      <th>-118.44</th>\n",
       "      <th>-116.52</th>\n",
       "    </tr>\n",
       "    <tr>\n",
       "      <th>lat_bucket</th>\n",
       "      <th></th>\n",
       "      <th></th>\n",
       "      <th></th>\n",
       "      <th></th>\n",
       "      <th></th>\n",
       "    </tr>\n",
       "  </thead>\n",
       "  <tbody>\n",
       "    <tr>\n",
       "      <th>32.58</th>\n",
       "      <td>NaN</td>\n",
       "      <td>NaN</td>\n",
       "      <td>65.317391</td>\n",
       "      <td>87.059645</td>\n",
       "      <td>67.955508</td>\n",
       "    </tr>\n",
       "    <tr>\n",
       "      <th>34.41</th>\n",
       "      <td>NaN</td>\n",
       "      <td>50.221983</td>\n",
       "      <td>67.597970</td>\n",
       "      <td>74.442308</td>\n",
       "      <td>58.294118</td>\n",
       "    </tr>\n",
       "    <tr>\n",
       "      <th>36.25</th>\n",
       "      <td>42.792276</td>\n",
       "      <td>51.489882</td>\n",
       "      <td>81.094254</td>\n",
       "      <td>74.704918</td>\n",
       "      <td>NaN</td>\n",
       "    </tr>\n",
       "    <tr>\n",
       "      <th>38.08</th>\n",
       "      <td>38.934803</td>\n",
       "      <td>53.699484</td>\n",
       "      <td>48.977778</td>\n",
       "      <td>NaN</td>\n",
       "      <td>NaN</td>\n",
       "    </tr>\n",
       "    <tr>\n",
       "      <th>39.92</th>\n",
       "      <td>38.790792</td>\n",
       "      <td>55.207065</td>\n",
       "      <td>NaN</td>\n",
       "      <td>NaN</td>\n",
       "      <td>NaN</td>\n",
       "    </tr>\n",
       "  </tbody>\n",
       "</table>\n",
       "</div>"
      ],
      "text/plain": [
       "                   AQI                                            \n",
       "long_bucket    -124.20    -122.28    -120.36    -118.44    -116.52\n",
       "lat_bucket                                                        \n",
       "32.58              NaN        NaN  65.317391  87.059645  67.955508\n",
       "34.41              NaN  50.221983  67.597970  74.442308  58.294118\n",
       "36.25        42.792276  51.489882  81.094254  74.704918        NaN\n",
       "38.08        38.934803  53.699484  48.977778        NaN        NaN\n",
       "39.92        38.790792  55.207065        NaN        NaN        NaN"
      ]
     },
     "execution_count": 25,
     "metadata": {},
     "output_type": "execute_result"
    }
   ],
   "source": [
    "def bucket_data(table, aggfunc, resolution):\n",
    "    long_buckets = np.sort(np.linspace(table[\"Longitude\"].min(), table[\"Longitude\"].max(), num=resolution, endpoint=False))\n",
    "    lat_buckets = np.sort(np.linspace(table[\"Latitude\"].min(), table[\"Latitude\"].max(), num=resolution, endpoint=False))\n",
    "    \n",
    "    long_buckets_map = dict(list(zip(long_buckets, np.around(long_buckets, decimals=2))))\n",
    "    lat_buckets_map = dict(list(zip(lat_buckets, np.around(lat_buckets, decimals=2))))\n",
    "    \n",
    "    get_lat_bucket_num = lambda loc : lat_buckets_map.get(lat_buckets[lat_buckets <= loc].max())\n",
    "    get_long_bucket_num = lambda loc : long_buckets_map.get(long_buckets[long_buckets <= loc].max())\n",
    "    \n",
    "    table[\"lat_bucket\"] = table[\"Latitude\"].apply(get_lat_bucket_num)\n",
    "    table[\"long_bucket\"] = table[\"Longitude\"].apply(get_long_bucket_num)\n",
    "    \n",
    "    pivot_cols = [\"lat_bucket\", \"long_bucket\", \"AQI\"]\n",
    "    return pd.pivot_table(table[pivot_cols], index = \"lat_bucket\", columns = \"long_bucket\", aggfunc = aggfunc)\n",
    "        \n",
    "new_ca = epa_data_CA_merged.copy()\n",
    "bucket_data(new_ca, np.mean, 5)"
   ]
  },
  {
   "cell_type": "code",
   "execution_count": 26,
   "id": "4b097507",
   "metadata": {
    "deletable": false,
    "editable": false
   },
   "outputs": [
    {
     "data": {
      "text/html": [
       "<p><strong><pre style='display: inline;'>q6a</pre></strong> passed!</p>"
      ],
      "text/plain": [
       "q6a results: All test cases passed!"
      ]
     },
     "execution_count": 26,
     "metadata": {},
     "output_type": "execute_result"
    }
   ],
   "source": [
    "grader.check(\"q6a\")"
   ]
  },
  {
   "cell_type": "markdown",
   "id": "39ec7023",
   "metadata": {
    "deletable": false,
    "editable": false
   },
   "source": [
    "<br/>\n",
    "\n",
    "### Question 6b: Visualize Heatmap\n",
    "\n",
    "Assign `heatmap_data` to a heatmap bucket pivot table aggregated by median with resolution 30 for California AQI for the month of september. The code in the following cell will plot this heatmap for you. \n",
    "\n",
    "<!--\n",
    "BEGIN QUESTION\n",
    "name: q6b\n",
    "points: 1\n",
    "-->"
   ]
  },
  {
   "cell_type": "code",
   "execution_count": 27,
   "id": "80dddafb",
   "metadata": {},
   "outputs": [
    {
     "data": {
      "image/png": "[encoded data removed]",
      "text/plain": [
       "<Figure size 1080x576 with 2 Axes>"
      ]
     },
     "metadata": {
      "needs_background": "light"
     },
     "output_type": "display_data"
    }
   ],
   "source": [
    "CA_september_daily = epa_data_CA_merged[epa_data_CA_merged[\"Month\"] == 9]\n",
    "heatmap_data = bucket_data(CA_september_daily, np.median, 30)\n",
    "\n",
    "#create visualization\n",
    "plt.figure(figsize=(15, 8))\n",
    "ax = sns.heatmap(heatmap_data, vmin=0, vmax=230, cmap = sns.cm.rocket_r)\n",
    "ax.invert_yaxis()\n",
    "plt.show()"
   ]
  },
  {
   "cell_type": "code",
   "execution_count": 28,
   "id": "f26c7478",
   "metadata": {
    "deletable": false,
    "editable": false
   },
   "outputs": [
    {
     "data": {
      "text/html": [
       "<p><strong><pre style='display: inline;'>q6b</pre></strong> passed!</p>"
      ],
      "text/plain": [
       "q6b results: All test cases passed!"
      ]
     },
     "execution_count": 28,
     "metadata": {},
     "output_type": "execute_result"
    }
   ],
   "source": [
    "grader.check(\"q6b\")"
   ]
  },
  {
   "cell_type": "markdown",
   "id": "dfc1c343",
   "metadata": {
    "deletable": false,
    "editable": false
   },
   "source": [
    "<!-- BEGIN QUESTION -->\n",
    "\n",
    "<br/>\n",
    "\n",
    "### Question 6c: Analyze Heatmap\n",
    "\n",
    "Look up where the dark regions correspond to. Does this heatmap make sense?\n",
    "\n",
    "<!--\n",
    "BEGIN QUESTION\n",
    "name: q6c\n",
    "manual: True\n",
    "points: 2\n",
    "-->"
   ]
  },
  {
   "cell_type": "markdown",
   "id": "1338999e",
   "metadata": {},
   "source": [
    "This heatmap makes sense because the dark regions in the graph correspond to latitude and longitude coordinates which lie mostly in forest areas or areas that lie along the ridge of California National Forests. The heatmap shows large AQI numbers for these coordinates during the month of September since there generally tend to be fires during September in these locations. This makes sense with our data since the darkest regions probably signal that a fire, or some other air quality hazard, was in that location during September."
   ]
  },
  {
   "cell_type": "markdown",
   "id": "bb9e18aa",
   "metadata": {},
   "source": [
    "<!-- END QUESTION -->\n",
    "\n",
    "\n",
    "\n",
    "<br/><br/>\n",
    "\n",
    "---\n",
    "## Part 3: Open-Ended EDA\n",
    "\n",
    "Not that we have explored the data both spatially and temporally, we want to be able to look at what other indicators there are for air quality in California. Through the previous few questions we have discussed that wilfire data as well as temperature may be good indicators, but we can explitly look at correlations via the temperature to verify our hypothesis. Like temperature, there are other columns of data such as particulate matter, chemical concentrations, wind data, etc. Your open-ended EDA will be useful for filling in missing points in the heatmap that you created in question 4b. \n",
    "\n",
    "Your goal in this question is to find relationships between AQI and other features in the current datasets, across time and space. Your exploration can include, but is not limited to: \n",
    "- Looking at correlations between AQI and various columns of interest in `epa_data_CA`.\n",
    "    - This will require some merging, which you can look at question 1 for reference. \n",
    "- Performing clustering and/or other unsupervised learning methods such as PCA to discover clusters or useful (combinations of) features in the data.\n",
    "- Merging and exploring other external datasets that you may think are useful."
   ]
  },
  {
   "cell_type": "markdown",
   "id": "af361520",
   "metadata": {
    "deletable": false,
    "editable": false
   },
   "source": [
    "<!-- BEGIN QUESTION -->\n",
    "\n",
    "### Question 7a - Code and Analysis\n",
    "\n",
    "Please complete all of your analysis in the **single cell** below based on the prompt above.\n",
    "\n",
    "<!--\n",
    "BEGIN QUESTION\n",
    "name: q7a\n",
    "manual: True\n",
    "points: 10\n",
    "-->"
   ]
  },
  {
   "cell_type": "code",
   "execution_count": 29,
   "id": "d584c43f",
   "metadata": {},
   "outputs": [
    {
     "data": {
      "text/html": [
       "<div>\n",
       "<style scoped>\n",
       "    .dataframe tbody tr th:only-of-type {\n",
       "        vertical-align: middle;\n",
       "    }\n",
       "\n",
       "    .dataframe tbody tr th {\n",
       "        vertical-align: top;\n",
       "    }\n",
       "\n",
       "    .dataframe thead th {\n",
       "        text-align: right;\n",
       "    }\n",
       "</style>\n",
       "<table border=\"1\" class=\"dataframe\">\n",
       "  <thead>\n",
       "    <tr style=\"text-align: right;\">\n",
       "      <th></th>\n",
       "      <th>State Name</th>\n",
       "      <th>county Name</th>\n",
       "      <th>Month</th>\n",
       "      <th>Day</th>\n",
       "      <th>AQI</th>\n",
       "      <th>Category</th>\n",
       "      <th>Defining Site</th>\n",
       "      <th>Site Lat</th>\n",
       "      <th>Site Long</th>\n",
       "      <th>Traffic Lat</th>\n",
       "      <th>Traffic Long</th>\n",
       "      <th>Descriptn</th>\n",
       "      <th>AADT</th>\n",
       "      <th>Site Num</th>\n",
       "      <th>County Code</th>\n",
       "    </tr>\n",
       "  </thead>\n",
       "  <tbody>\n",
       "    <tr>\n",
       "      <th>0</th>\n",
       "      <td>California</td>\n",
       "      <td>Mendocino</td>\n",
       "      <td>7</td>\n",
       "      <td>6</td>\n",
       "      <td>29</td>\n",
       "      <td>Good</td>\n",
       "      <td>06-045-0008</td>\n",
       "      <td>38.759843</td>\n",
       "      <td>-123.518503</td>\n",
       "      <td>39.145660</td>\n",
       "      <td>-123.202980</td>\n",
       "      <td>SONOMA/MENDOCINO COUNTY LINE</td>\n",
       "      <td>4000</td>\n",
       "      <td>8</td>\n",
       "      <td>45</td>\n",
       "    </tr>\n",
       "    <tr>\n",
       "      <th>1</th>\n",
       "      <td>California</td>\n",
       "      <td>Mendocino</td>\n",
       "      <td>7</td>\n",
       "      <td>6</td>\n",
       "      <td>29</td>\n",
       "      <td>Good</td>\n",
       "      <td>06-045-0008</td>\n",
       "      <td>38.770046</td>\n",
       "      <td>-123.531890</td>\n",
       "      <td>39.145660</td>\n",
       "      <td>-123.202980</td>\n",
       "      <td>NORTH LIMITS GUALALA</td>\n",
       "      <td>7100</td>\n",
       "      <td>8</td>\n",
       "      <td>45</td>\n",
       "    </tr>\n",
       "    <tr>\n",
       "      <th>2</th>\n",
       "      <td>California</td>\n",
       "      <td>Mendocino</td>\n",
       "      <td>7</td>\n",
       "      <td>6</td>\n",
       "      <td>29</td>\n",
       "      <td>Good</td>\n",
       "      <td>06-045-0008</td>\n",
       "      <td>38.803549</td>\n",
       "      <td>-123.585411</td>\n",
       "      <td>39.145660</td>\n",
       "      <td>-123.202980</td>\n",
       "      <td>FISH ROCK ROAD</td>\n",
       "      <td>6200</td>\n",
       "      <td>8</td>\n",
       "      <td>45</td>\n",
       "    </tr>\n",
       "    <tr>\n",
       "      <th>37</th>\n",
       "      <td>California</td>\n",
       "      <td>Mendocino</td>\n",
       "      <td>7</td>\n",
       "      <td>6</td>\n",
       "      <td>29</td>\n",
       "      <td>Good</td>\n",
       "      <td>06-045-0008</td>\n",
       "      <td>39.191678</td>\n",
       "      <td>-123.040358</td>\n",
       "      <td>39.145660</td>\n",
       "      <td>-123.202980</td>\n",
       "      <td>MENDOCINO/LAKE COUNTY LINE</td>\n",
       "      <td>11500</td>\n",
       "      <td>8</td>\n",
       "      <td>45</td>\n",
       "    </tr>\n",
       "    <tr>\n",
       "      <th>38</th>\n",
       "      <td>California</td>\n",
       "      <td>Mendocino</td>\n",
       "      <td>7</td>\n",
       "      <td>6</td>\n",
       "      <td>29</td>\n",
       "      <td>Good</td>\n",
       "      <td>06-045-0008</td>\n",
       "      <td>39.191678</td>\n",
       "      <td>-123.040358</td>\n",
       "      <td>39.145660</td>\n",
       "      <td>-123.202980</td>\n",
       "      <td>MENDOCINO/LAKE COUNTY LINE</td>\n",
       "      <td>10100</td>\n",
       "      <td>8</td>\n",
       "      <td>45</td>\n",
       "    </tr>\n",
       "    <tr>\n",
       "      <th>...</th>\n",
       "      <td>...</td>\n",
       "      <td>...</td>\n",
       "      <td>...</td>\n",
       "      <td>...</td>\n",
       "      <td>...</td>\n",
       "      <td>...</td>\n",
       "      <td>...</td>\n",
       "      <td>...</td>\n",
       "      <td>...</td>\n",
       "      <td>...</td>\n",
       "      <td>...</td>\n",
       "      <td>...</td>\n",
       "      <td>...</td>\n",
       "      <td>...</td>\n",
       "      <td>...</td>\n",
       "    </tr>\n",
       "    <tr>\n",
       "      <th>7103</th>\n",
       "      <td>California</td>\n",
       "      <td>Orange</td>\n",
       "      <td>2</td>\n",
       "      <td>27</td>\n",
       "      <td>46</td>\n",
       "      <td>Good</td>\n",
       "      <td>06-059-0008</td>\n",
       "      <td>33.688894</td>\n",
       "      <td>-117.919096</td>\n",
       "      <td>33.819305</td>\n",
       "      <td>-117.918759</td>\n",
       "      <td>COSTA MESA, HARBOR BOULEVARD</td>\n",
       "      <td>604800</td>\n",
       "      <td>8</td>\n",
       "      <td>59</td>\n",
       "    </tr>\n",
       "    <tr>\n",
       "      <th>7104</th>\n",
       "      <td>California</td>\n",
       "      <td>Orange</td>\n",
       "      <td>2</td>\n",
       "      <td>27</td>\n",
       "      <td>46</td>\n",
       "      <td>Good</td>\n",
       "      <td>06-059-0008</td>\n",
       "      <td>33.695572</td>\n",
       "      <td>-117.935222</td>\n",
       "      <td>33.819305</td>\n",
       "      <td>-117.918759</td>\n",
       "      <td>FOUNTAIN VALLEY, EUCLID STREET</td>\n",
       "      <td>603700</td>\n",
       "      <td>8</td>\n",
       "      <td>59</td>\n",
       "    </tr>\n",
       "    <tr>\n",
       "      <th>7105</th>\n",
       "      <td>California</td>\n",
       "      <td>Orange</td>\n",
       "      <td>2</td>\n",
       "      <td>27</td>\n",
       "      <td>46</td>\n",
       "      <td>Good</td>\n",
       "      <td>06-059-0008</td>\n",
       "      <td>33.705110</td>\n",
       "      <td>-117.954341</td>\n",
       "      <td>33.819305</td>\n",
       "      <td>-117.918759</td>\n",
       "      <td>FOUNTAIN VALLEY, BROOKHURST STREET</td>\n",
       "      <td>560500</td>\n",
       "      <td>8</td>\n",
       "      <td>59</td>\n",
       "    </tr>\n",
       "    <tr>\n",
       "      <th>7106</th>\n",
       "      <td>California</td>\n",
       "      <td>Orange</td>\n",
       "      <td>2</td>\n",
       "      <td>27</td>\n",
       "      <td>46</td>\n",
       "      <td>Good</td>\n",
       "      <td>06-059-0008</td>\n",
       "      <td>33.715924</td>\n",
       "      <td>-117.967267</td>\n",
       "      <td>33.819305</td>\n",
       "      <td>-117.918759</td>\n",
       "      <td>FOUNTAIN VALLEY, WARNER AVENUE</td>\n",
       "      <td>521600</td>\n",
       "      <td>8</td>\n",
       "      <td>59</td>\n",
       "    </tr>\n",
       "    <tr>\n",
       "      <th>7107</th>\n",
       "      <td>California</td>\n",
       "      <td>Orange</td>\n",
       "      <td>2</td>\n",
       "      <td>27</td>\n",
       "      <td>46</td>\n",
       "      <td>Good</td>\n",
       "      <td>06-059-0008</td>\n",
       "      <td>33.719865</td>\n",
       "      <td>-117.971980</td>\n",
       "      <td>33.819305</td>\n",
       "      <td>-117.918759</td>\n",
       "      <td>HUNTINGTON BEACH, MAGNOLIA STREET</td>\n",
       "      <td>518400</td>\n",
       "      <td>8</td>\n",
       "      <td>59</td>\n",
       "    </tr>\n",
       "  </tbody>\n",
       "</table>\n",
       "<p>765932 rows × 15 columns</p>\n",
       "</div>"
      ],
      "text/plain": [
       "      State Name county Name  Month  Day  AQI Category Defining Site  \\\n",
       "0     California   Mendocino      7    6   29     Good   06-045-0008   \n",
       "1     California   Mendocino      7    6   29     Good   06-045-0008   \n",
       "2     California   Mendocino      7    6   29     Good   06-045-0008   \n",
       "37    California   Mendocino      7    6   29     Good   06-045-0008   \n",
       "38    California   Mendocino      7    6   29     Good   06-045-0008   \n",
       "...          ...         ...    ...  ...  ...      ...           ...   \n",
       "7103  California      Orange      2   27   46     Good   06-059-0008   \n",
       "7104  California      Orange      2   27   46     Good   06-059-0008   \n",
       "7105  California      Orange      2   27   46     Good   06-059-0008   \n",
       "7106  California      Orange      2   27   46     Good   06-059-0008   \n",
       "7107  California      Orange      2   27   46     Good   06-059-0008   \n",
       "\n",
       "       Site Lat   Site Long  Traffic Lat  Traffic Long  \\\n",
       "0     38.759843 -123.518503    39.145660   -123.202980   \n",
       "1     38.770046 -123.531890    39.145660   -123.202980   \n",
       "2     38.803549 -123.585411    39.145660   -123.202980   \n",
       "37    39.191678 -123.040358    39.145660   -123.202980   \n",
       "38    39.191678 -123.040358    39.145660   -123.202980   \n",
       "...         ...         ...          ...           ...   \n",
       "7103  33.688894 -117.919096    33.819305   -117.918759   \n",
       "7104  33.695572 -117.935222    33.819305   -117.918759   \n",
       "7105  33.705110 -117.954341    33.819305   -117.918759   \n",
       "7106  33.715924 -117.967267    33.819305   -117.918759   \n",
       "7107  33.719865 -117.971980    33.819305   -117.918759   \n",
       "\n",
       "                               Descriptn    AADT  Site Num  County Code  \n",
       "0           SONOMA/MENDOCINO COUNTY LINE    4000         8           45  \n",
       "1                   NORTH LIMITS GUALALA    7100         8           45  \n",
       "2                         FISH ROCK ROAD    6200         8           45  \n",
       "37            MENDOCINO/LAKE COUNTY LINE   11500         8           45  \n",
       "38            MENDOCINO/LAKE COUNTY LINE   10100         8           45  \n",
       "...                                  ...     ...       ...          ...  \n",
       "7103        COSTA MESA, HARBOR BOULEVARD  604800         8           59  \n",
       "7104      FOUNTAIN VALLEY, EUCLID STREET  603700         8           59  \n",
       "7105  FOUNTAIN VALLEY, BROOKHURST STREET  560500         8           59  \n",
       "7106      FOUNTAIN VALLEY, WARNER AVENUE  521600         8           59  \n",
       "7107   HUNTINGTON BEACH, MAGNOLIA STREET  518400         8           59  \n",
       "\n",
       "[765932 rows x 15 columns]"
      ]
     },
     "execution_count": 29,
     "metadata": {},
     "output_type": "execute_result"
    }
   ],
   "source": [
    "#OBSERVE DIFFERENT SITES AND THE TYPE OF LAND TO SEE HOW TYPE OF LAND RELATED TO AQI\n",
    "aqs = epa_data['aqs_sites']\n",
    "dc_CA = epa_data_CA['daily_county_aqi']\n",
    "\n",
    "#merge with daily CA data to get AQI values for each type of site\n",
    "dc_CA[\"Site Number\"] = (dc_CA[\"Defining Site\"].str.split(\"-\").str[2]).astype(\"int64\")\n",
    "dc_CA[\"State Code\"] = dc_CA[\"Defining Site\"].str.split(\"-\").str[0]\n",
    "dc_CA[\"County Code\"] = (dc_CA[\"Defining Site\"].str.split(\"-\").str[1]).astype(\"int64\")\n",
    "dc_CA['State Code'] = pd.to_numeric(dc_CA['State Code'], errors = \"coerce\")\n",
    "dc_aqs_CA = dc_CA.merge(aqs, on = [\"State Code\", \"County Code\", \"Site Number\"]).rename(columns = {\"State Name_x\" : \"State Name\"})\n",
    "\n",
    "#filter out the columns we need\n",
    "cols = ['State Name', 'county Name', 'Month', 'Day', 'AQI', 'Category', 'Defining Site', 'Latitude', 'Longitude', 'Land Use', 'Location Setting']\n",
    "dc_aqs_CA = dc_aqs_CA[cols]\n",
    "\n",
    "#groupby the type of land to see median AQIs for each\n",
    "land_use_aqi = dc_aqs_CA.groupby('Land Use').agg(np.median)['AQI']\n",
    "\n",
    "\n",
    "#OBSERVE TEMPERATURE AND WIND TO SEE HOW IT IS RELATED TO AQI\n",
    "temp = epa_data_CA['daily_wind'].sample(400)\n",
    "temp = temp[[\"State Code\", \"County Code\", \"Site Num\", \"Arithmetic Mean\"]]\n",
    "daily_CA = epa_data_CA['daily_county_aqi'].sample(400)\n",
    "daily_CA[\"Site Num\"] = (daily_CA[\"Defining Site\"].str.split(\"-\").str[2]).astype(\"int64\")\n",
    "daily_CA[\"State Code\"] = (daily_CA[\"Defining Site\"].str.split(\"-\").str[0]).astype(\"int64\")\n",
    "daily_CA[\"County Code\"] = (daily_CA[\"Defining Site\"].str.split(\"-\").str[1]).astype(\"int64\")\n",
    "\n",
    "#merge with daily CA data to get AQI values at different temperatures\n",
    "dc_temp_CA = daily_CA.merge(temp, how = 'inner', on = ['State Code', 'County Code', 'Site Num'])\n",
    "dc_temp_CA.rename(columns = {'Arithmetic Mean':'Temperature'}, inplace = True)\n",
    "dc_temp_CA.head()\n",
    "\n",
    "\n",
    "#OBSERVE TRAFFIC TRENDS AND SEE HOW THEY RELATE TO AQI\n",
    "\n",
    "#create geoDFs to use join_nearest to merge traffic with AQI based on closest site location\n",
    "traffic_data = gpd.GeoDataFrame(traffic_data_cleaned, geometry=gpd.points_from_xy(traffic_data_cleaned.Longitude, traffic_data_cleaned.Latitude))\n",
    "epa_geo = gpd.GeoDataFrame(epa_data_CA_merged.copy(), geometry=gpd.points_from_xy(epa_data_CA_merged.Longitude, epa_data_CA_merged.Latitude))\n",
    "geo_traffic_epa = gpd.sjoin_nearest(traffic_data, epa_geo)\n",
    "\n",
    "#clean up merged table\n",
    "geo_traffic_epa = geo_traffic_epa.rename(columns={'Latitude_left' : 'Site Lat', 'Longitude_left' : 'Site Long', 'Latitude_right' : 'Traffic Lat', 'Longitude_right' : 'Traffic Long'})\n",
    "geo_traffic_epa = geo_traffic_epa[['State Name', 'county Name', 'Month', 'Day', 'AQI', 'Category', 'Defining Site', 'Site Lat', 'Site Long', 'Traffic Lat', 'Traffic Long', 'Descriptn', 'AADT']]\n",
    "\n",
    "geo_traffic_epa[\"Site Num\"] = (geo_traffic_epa[\"Defining Site\"].str.split(\"-\").str[2]).astype(\"int64\")\n",
    "geo_traffic_epa[\"County Code\"] = (geo_traffic_epa[\"Defining Site\"].str.split(\"-\").str[1]).astype(\"int64\")\n",
    "\n",
    "geo_traffic_epa = geo_traffic_epa[geo_traffic_epa['State Name'] == 'California']\n",
    "\n",
    "geo_traffic_epa\n",
    "\n",
    "\n"
   ]
  },
  {
   "cell_type": "markdown",
   "id": "e40a68bb",
   "metadata": {
    "deletable": false,
    "editable": false
   },
   "source": [
    "<!-- END QUESTION -->\n",
    "\n",
    "<!-- BEGIN QUESTION -->\n",
    "\n",
    "<br/>\n",
    "\n",
    "### Question 7b - Visualization\n",
    "\n",
    "Please create **two** visualizations to summarize your analysis above. The only restrictions are that these visualizations **cannot** simply be scatterplots between two features in the dataset(s) and **cannot** be of the same type (dont make two bar graphs, for example). \n",
    "\n",
    "<!--\n",
    "BEGIN QUESTION\n",
    "name: q7b\n",
    "manual: True\n",
    "points: 4\n",
    "-->"
   ]
  },
  {
   "cell_type": "code",
   "execution_count": 30,
   "id": "3f94c859",
   "metadata": {},
   "outputs": [],
   "source": [
    "# #barplot to show median AQI for each type of land site\n",
    "# plt.barh(land_use_aqi.index, land_use_aqi)\n",
    "# plt.xlabel('AQI')\n",
    "# plt.ylabel('Land Use')\n",
    "# plt.title('Median AQI by Land Use')\n",
    "\n",
    "# #pairplot to show average AQI at different temperatures\n",
    "# dc_temp_CA['Log Temperature'] = np.log(dc_temp_CA['Temperature'])\n",
    "# sns.pairplot(dc_temp_CA[[\"AQI\", \"Temperature\", 'Log Temperature']])\n",
    "\n",
    "# #plot to show AQI vs traffic in different months of the year\n",
    "# g = sns.lmplot(x='AADT', y='AQI', hue='Month', col = 'Month', data=geo_traffic_epa.sample(200), height=2, aspect=1, x_jitter=0.1)\n",
    "# g.set(ylim=(0, 178))\n",
    "\n",
    "# g = sns.lmplot(x='AADT', y='AQI', hue='Month', col = 'Month', data=geo_traffic_epa.sample(200), height=2, aspect=1, x_jitter=0.1)\n",
    "# g.set(ylim=(0, 178))\n",
    "\n",
    "\n",
    "# a = sns.barplot(data=FINAL_DATA, x='Month', y='AQI')\n",
    "# a.set_ylabel('Average AQI')\n",
    "# plt.title('Average AQI per Month')\n",
    "\n",
    "# x = FINAL_DATA.copy()\n",
    "# x['Log AADT'] = np.log(x['AADT'])\n",
    "# x['Log AQI'] = np.log(x['AQI'])\n",
    "# sns.lmplot(x='Log AADT', y='AQI', data=x.sample(100))\n",
    "# plt.title('Log AADT vs. AQI')\n",
    "\n",
    "# b = sns.lmplot(x='temp', y='AQI', data=x.sample(100))\n",
    "# plt.title('Temperature vs. AQI')\n",
    "\n",
    "\n",
    "# a = sns.barplot(data=FINAL_DATA, x='Location Setting', y='AQI')\n",
    "# a.set_ylabel('Average AQI')\n",
    "# plt.title('Average AQI per Month')\n",
    "\n"
   ]
  },
  {
   "cell_type": "markdown",
   "id": "331e4060",
   "metadata": {
    "deletable": false,
    "editable": false
   },
   "source": [
    "<!-- END QUESTION -->\n",
    "\n",
    "<!-- BEGIN QUESTION -->\n",
    "\n",
    "<br/>\n",
    "\n",
    "### Question 7c - Summary\n",
    "\n",
    "In a paragraph, summarize the your findings and visualizations and explain how they will be useful for predicting AQI. Make sure that your answer is thoughtful and detailed in that it describes what you did and how you reached your conclusion. \n",
    "\n",
    "<!--\n",
    "BEGIN QUESTION\n",
    "name: q7c\n",
    "manual: True\n",
    "points: 4\n",
    "-->"
   ]
  },
  {
   "cell_type": "markdown",
   "id": "540a0fb7",
   "metadata": {},
   "source": [
    "We conducted 3 separate analyses in our EDA. Our first analysis looks at the type of land that the AQI is measured on from aqs_sites. This was an important find because as the bar chart shows, the median AQI varies highly for different types of land. For example, military reservations generally seem to have a significantly higher AQI than the other land types. The second analysis we conducted was to determine whether there was a relationship between weather and AQI. To do this, we decided to compare temperature from daily_temp with the daily AQI data. After looking at the second plot, which is a pairplot of temperature vs. AQI, we observed that there weren't any significant relationships that we found from our samples. Therefore, we concluded that it is not enough to simply use temperature to predict AQI. Furthermore, in our data analaysis, we also came across California's annual AQI fluctuations that occur around midyear. We theorized that California has a high population and high traffic rate in general, so we compared California's traffic and AQI over the year to see how it changed throughout the year. As our third plot shows, the relationship between AQI and AADT (which is a representative of traffic) does vary throughout the year, and we noticed that their relationship was positive for the beginning until we reach midyear, when their relationship dips negative. This may help explain California's AQI fluctuation around the midyear. Since their relationship dips negative, that means AADT has less influence on AQI during these times of the year, leaving AQI to be heavily affected by some external factors. This lead us to conclude that traffic is not what causes these fluctuations, but rather some external factor. "
   ]
  },
  {
   "cell_type": "markdown",
   "id": "7bed937a",
   "metadata": {},
   "source": [
    "<!-- END QUESTION -->\n",
    "\n",
    "\n",
    "\n",
    "<br/><br/>\n",
    "\n",
    "---\n",
    "## Part 4: Guided Modeling\n",
    "\n",
    "For this part, we will be looking at some open-ended modeling approaches to answering the question of predicting AQI given a location and a date. \n",
    "\n",
    "### Question 8 - Interpolation\n",
    "\n",
    "For this part, we will be using a simple interpolation to find the missing grid values for AQI on the heatmap visualization that you produced in part 1. Simple linear interpolation just takes the locations' values and averages them to produce an estimate of the current location. Though this is not as predictive (we are not predicting based on features about the location itself), it will give you a sense of the task at hand for the remainder of the project. \n",
    "\n",
    "As a reminder, the heatmap produced after running the cell below is the one you produced for question 6b when creating a visualization for the AQI in California for the month of september. It produces white spaces where there exist `NaN` values in the pivot table. "
   ]
  },
  {
   "cell_type": "code",
   "execution_count": 31,
   "id": "61fe3c84",
   "metadata": {},
   "outputs": [
    {
     "data": {
      "image/png": "[encoded data removed]",
      "text/plain": [
       "<Figure size 1080x576 with 2 Axes>"
      ]
     },
     "metadata": {
      "needs_background": "light"
     },
     "output_type": "display_data"
    }
   ],
   "source": [
    "table_sep = epa_data_CA_merged[epa_data_CA_merged['Month'] == 9]\n",
    "heatmap_data = bucket_data(table_sep, np.median, 25)\n",
    "\n",
    "plt.figure(figsize=(15, 8))\n",
    "ax = sns.heatmap(heatmap_data, vmin=0, vmax=230, cmap = sns.cm.rocket_r)\n",
    "ax.invert_yaxis()\n",
    "plt.show()"
   ]
  },
  {
   "cell_type": "markdown",
   "id": "518c3a87",
   "metadata": {
    "deletable": false,
    "editable": false
   },
   "source": [
    "<br/>\n",
    "\n",
    "### Question 8a - Simple Linear Interpolation\n",
    "As previously mentioned, interpolation is a technique that is used to predict labels in a dataset by forming a model out of the data that is already labelled. In this case, we have a pivot table that we use to create a heatmap, but there contains many `NaN` values that we want to fill in. \n",
    "\n",
    "- Create the function `fill_bucket` that takes in the following parameters:\n",
    "    - `pivot_table`: the pivot table that we are providing. \n",
    "    - `lat_bucket`: the bucket number that the latitude is in, indexed by zero. ex. if there are 25 buckets, they are numbered $ 0, 2, \\dots 24 $, from lowest to highest value latitudes. \n",
    "    - `lon_bucket`: the bucket number that the longitude is in, indexed by zero. ex. if there are 25 buckets, they are numbered $ 0, 2, \\dots 24 $. from lowest to highest value longitudes.\n",
    "    \n",
    "- In the pivot table, every value has cells above (A cells), cells below (B cells), cells to the left (L cells), and cells to the right (R cells). We will say that a direction (R for example) is valid if and only if there exists a cell **anywhere** to its right that is not `NaN`. The closest such cell will be called the \"closest R cell\". The same goes for the rest of the directions. For the cases below, assuming that our current cell is called cell K. \n",
    "    - If cell K is not `NaN`, then simply return the AQI at that given cell.\n",
    "    - **Only** if there are **at least** three valid directional cells (ex. has A, B, and L valid but not R valid), we will call K *interpolable*. If K is *interpolable*, then interpolate K by assigning it an AQI value equal to the average of the closest cell AQIs in each of the valid directions. \n",
    "    - If K is *not interpolable*, then do not do anything and simply return `NaN`.\n",
    "- The return value of `fill_bucket` should be the the value assigned to K. **DO NOT** mutate the cell K in the pivot table yet.\n",
    "\n",
    "<!--\n",
    "BEGIN QUESTION\n",
    "name: q8a\n",
    "points: 6\n",
    "-->"
   ]
  },
  {
   "cell_type": "code",
   "execution_count": 32,
   "id": "944ae784-989b-423d-b6f0-9cc6e13975a1",
   "metadata": {},
   "outputs": [
    {
     "data": {
      "text/plain": [
       "array([0, 1, 2])"
      ]
     },
     "execution_count": 32,
     "metadata": {},
     "output_type": "execute_result"
    }
   ],
   "source": [
    "count = 10\n",
    "np.arange(count - 7)"
   ]
  },
  {
   "cell_type": "code",
   "execution_count": 33,
   "id": "dd43b812",
   "metadata": {},
   "outputs": [],
   "source": [
    "def isDirectionValid(pivot_table, index, direction):\n",
    "    kRow = index[0]\n",
    "    kCol = index[1]\n",
    "    rowCount = pivot_table.shape[0]\n",
    "    colCount = pivot_table.shape[1]\n",
    "    \n",
    "    if direction == \"L\":\n",
    "        if kCol == 0:\n",
    "            return False, 0\n",
    "        #iterate through cells to the left of K\n",
    "        for col in np.arange(kCol+1)[1:]:\n",
    "            if not np.isnan(pivot_table.iloc[kRow, kCol - col]):\n",
    "                closestCellAQI = pivot_table.iloc[kRow, kCol - col]\n",
    "                return True, closestCellAQI\n",
    "        return False, 0\n",
    "        \n",
    "    elif direction == \"R\":\n",
    "        if kCol == colCount - 1:\n",
    "            return False, 0\n",
    "        #iterate through cells to the right of K\n",
    "        for col in np.arange(colCount - kCol)[1:]:\n",
    "            if not np.isnan(pivot_table.iloc[kRow, kCol + col]):\n",
    "                closestCellAQI = pivot_table.iloc[kRow, kCol + col]\n",
    "                return True, closestCellAQI\n",
    "        return False, 0\n",
    "        \n",
    "    elif direction == \"A\":\n",
    "        #iterate through cells above K\n",
    "        if kRow == 0:\n",
    "            return False, 0\n",
    "        for row in np.arange(kRow+1)[1:]:\n",
    "            if not np.isnan(pivot_table.iloc[kRow - row, kCol]):\n",
    "                closestCellAQI = pivot_table.iloc[kRow - row, kCol]\n",
    "                return True, closestCellAQI\n",
    "        return False, 0\n",
    "        \n",
    "    elif direction == \"B\":\n",
    "        if kRow == rowCount - 1:\n",
    "            return False, 0\n",
    "        #iterate through cells below K\n",
    "        for row in np.arange(rowCount - kRow)[1:]:\n",
    "            if not np.isnan(pivot_table.iloc[kRow + row, kCol]):\n",
    "                closestCellAQI = pivot_table.iloc[kRow + row, kCol]\n",
    "                return True, closestCellAQI\n",
    "        return False, 0\n",
    "            \n",
    "def fill_bucket(pivot_table, lat_bucket, lon_bucket):\n",
    "    if (np.isnan(pivot_table.iloc[lat_bucket, lon_bucket]) == False):\n",
    "        return pivot_table.iloc[lat_bucket, lon_bucket]\n",
    "    \n",
    "    index = [lat_bucket, lon_bucket]\n",
    "    \n",
    "    L_valid, L_closestAQI = isDirectionValid(pivot_table, index, \"L\")\n",
    "    R_valid, R_closestAQI = isDirectionValid(pivot_table, index, \"R\")\n",
    "    A_valid, A_closestAQI = isDirectionValid(pivot_table, index, \"A\")\n",
    "    B_valid, B_closestAQI = isDirectionValid(pivot_table, index, \"B\")\n",
    "    \n",
    "    validDirs = [L_valid, R_valid, A_valid, B_valid]\n",
    "    aqis = [L_closestAQI, R_closestAQI, A_closestAQI, B_closestAQI]\n",
    "    numValid = sum(validDirs)\n",
    "    \n",
    "    if (numValid >= 3):\n",
    "        Sum = 0\n",
    "        for aqi in aqis:\n",
    "            Sum = Sum + aqi\n",
    "        return Sum/numValid\n",
    "    else:\n",
    "        return np.nan"
   ]
  },
  {
   "cell_type": "code",
   "execution_count": 34,
   "id": "62eab44a",
   "metadata": {
    "deletable": false,
    "editable": false
   },
   "outputs": [
    {
     "data": {
      "text/html": [
       "<p><strong><pre style='display: inline;'>q8a</pre></strong> passed!</p>"
      ],
      "text/plain": [
       "q8a results: All test cases passed!"
      ]
     },
     "execution_count": 34,
     "metadata": {},
     "output_type": "execute_result"
    }
   ],
   "source": [
    "grader.check(\"q8a\")"
   ]
  },
  {
   "cell_type": "markdown",
   "id": "1f24e9a7",
   "metadata": {
    "deletable": false,
    "editable": false
   },
   "source": [
    "<br/>\n",
    "\n",
    "### Question 8b - Create Filled Heatmap\n",
    "\n",
    "Now that you have created the `fill_bucket` function, we want to actually use it to fill in the values in `heatmap_data`. Complete the function `fill_all` that takes in the pivot table and fills in all the values and produces a pivot table with the updated values. **DO NOT** mutate the original pivot table. Instead, produce a new pivot table that that contains the filled values. \n",
    "\n",
    "One point to note is that when we update a cell here, we do not use any surrounding *interpolated* cells to do our interpolation on any given cell. As a result, we will always use the **original** pivot table to find surrounding cells and interpolate.\n",
    "\n",
    "<!--\n",
    "BEGIN QUESTION\n",
    "name: q8b\n",
    "points: 3\n",
    "-->"
   ]
  },
  {
   "cell_type": "code",
   "execution_count": 35,
   "id": "30dc5001",
   "metadata": {
    "tags": []
   },
   "outputs": [
    {
     "data": {
      "image/png": "[encoded data removed]",
      "text/plain": [
       "<Figure size 1080x576 with 2 Axes>"
      ]
     },
     "metadata": {
      "needs_background": "light"
     },
     "output_type": "display_data"
    }
   ],
   "source": [
    "def fill_all(pivot_table):\n",
    "    aqiData = pivot_table['AQI']\n",
    "    topIndex = np.array(aqiData.columns)\n",
    "    leftIndex = np.array(pivot_table.index)\n",
    "    \n",
    "    newdata = []\n",
    "    \n",
    "    for row in np.arange(pivot_table.shape[0]):\n",
    "        for col in np.arange(pivot_table.shape[1]):\n",
    "            newdata.append((leftIndex[row], topIndex[col], fill_bucket(pivot_table, row, col)))\n",
    "    \n",
    "    columns = ['lat_bucket', 'long_bucket', 'AQI']\n",
    "    new_table = pd.DataFrame(data = newdata, columns = columns)\n",
    "    new_pivot = new_table.pivot(index = 'lat_bucket', columns = 'long_bucket', values = 'AQI')\n",
    "    \n",
    "    return new_pivot\n",
    "\n",
    "\n",
    "filled_heatmap_data = fill_all(heatmap_data)\n",
    "plt.figure(figsize=(15, 8))\n",
    "ax = sns.heatmap(filled_heatmap_data, vmin=0, vmax=230, cmap = sns.cm.rocket_r)\n",
    "ax.invert_yaxis()\n",
    "plt.show()   "
   ]
  },
  {
   "cell_type": "code",
   "execution_count": 36,
   "id": "d94c73af",
   "metadata": {
    "deletable": false,
    "editable": false
   },
   "outputs": [
    {
     "data": {
      "text/html": [
       "<p><strong><pre style='display: inline;'>q8b</pre></strong> passed!</p>"
      ],
      "text/plain": [
       "q8b results: All test cases passed!"
      ]
     },
     "execution_count": 36,
     "metadata": {},
     "output_type": "execute_result"
    }
   ],
   "source": [
    "grader.check(\"q8b\")"
   ]
  },
  {
   "cell_type": "markdown",
   "id": "463b7e54",
   "metadata": {
    "deletable": false,
    "editable": false
   },
   "source": [
    "<!-- BEGIN QUESTION -->\n",
    "\n",
    "<br/>\n",
    "\n",
    "### Question 8c - Other Interpolation Ideas\n",
    "\n",
    "Instead of just interpolating in a simple fashion as we did above, suggest one other way to interpolate (that actually works so do not just say \"put the average of all cells in every `NaN` cell). For example, you can take into account of the distance of the surrounding cells, the number of cells you use, and more. \n",
    "\n",
    "<!--\n",
    "BEGIN QUESTION\n",
    "name: q8c\n",
    "points: 2\n",
    "manual: True\n",
    "-->"
   ]
  },
  {
   "cell_type": "markdown",
   "id": "102cfb47",
   "metadata": {},
   "source": [
    "For each NaN cell, you could take the median of the surounding cells, including the cells diagonal from the NaN cell."
   ]
  },
  {
   "cell_type": "markdown",
   "id": "256edc81",
   "metadata": {
    "deletable": false,
    "editable": false
   },
   "source": [
    "<!-- END QUESTION -->\n",
    "\n",
    "<!-- BEGIN QUESTION -->\n",
    "\n",
    "<br/>\n",
    "\n",
    "### Question 9 - Choosing your Loss Function\n",
    "\n",
    "Let us say that you are trying to define a loss function $L(x_{i}, y_{i})$ to use for model, where $x_{i}$ is the input and the $y_{i}$ is a qualitative variable that that model outputs, consisting of the following five groups: good, moderate, unhealthy for sensitive groups, unhealthy, very unhealthy, or hazardous. How would you design your loss function to evaluate your model?\n",
    "\n",
    "<!--\n",
    "BEGIN QUESTION\n",
    "name: q9\n",
    "manual: True\n",
    "points: 2\n",
    "-->"
   ]
  },
  {
   "cell_type": "markdown",
   "id": "06e863ad",
   "metadata": {},
   "source": [
    "First, I would make sure the 6 groups have a quantitative variable associated with them that ranks how unhealthy the AQI is. This way, we can associate the output numerically, so we can do return loss as an integer. One way we could this is to map integers from 1 to 6 for the different AQI levels. For example: {1: good, 2: moderate, 3: unhealthy} etc. All that is left is for us to choose whether to use L1 or L2. As a group, we decided to use absolute mean error. \n",
    "\n",
    "In addition, since our model is a classification model, we will be using precision, recall, and f1 scores to assess our model's performance. Precision and recall are metrics that will tell us about the quality and the quantity of our classification predictions, while the f1 score will tell us the balance between those two metrics. "
   ]
  },
  {
   "cell_type": "markdown",
   "id": "2ea97f3e",
   "metadata": {},
   "source": [
    "<!-- END QUESTION -->\n",
    "\n",
    "\n",
    "\n",
    "</br></br>\n",
    "\n",
    "### Question 10: Creating your own Model!\n",
    "\n",
    "Now that you have an idea of how to interpolate values, we will be using something more predictive. In this part, your final goal is to be creating a model and function that uses **at least four** features, with at least one of those four features being from an external dataset that you bring in and process yourself. Here are some rules on the model that you should follow: \n",
    "\n",
    "- Using your open-ended EDA analysis, use at least three features in the dataset provided to come up with some sort of predictive model for the AQI for remaining locations not predicted in the heatmap. You are **NOT** allowed to use any more than **one** of the particulate matter features for this model i.e. ozone or CO2 concentrations for example. \n",
    "    - The reason behind this is that AQI is directly based on these values, so there will be in some sense a near 100\\% correlation between AQI and these features under some transformations. \n",
    "- Use at least one feature that comes from an external dataset of choice. Some examples are geographical region (categorical), elevation (quantitative), or wilfire data. \n",
    "    - Reference question 2c of this project to see how to merge external data with the current EPA data.\n",
    "- Your model should, at the end, predict one of the following broad categories for the AQI: good, moderate, unhealthy for sensitive groups, unhealthy, very unhealthy, or hazardous. Note that this specification is different from `fill_bucket` in the sense that instead of returning a value, you will be returning a string for a category.\n",
    "    - As a result, you can either directly predict the category, or the AQI (ex. through regression) and then convert to the category. Category ranges for AQI can be found online.\n",
    "- The final model should be validated with some data that you hold out. You decide how to do this but there should be some model validation accuracy reported. You should be using the loss function that you designed in question 3 in order to do this.\n",
    "\n",
    "---\n",
    "\n",
    "#### Deliverables\n",
    "<br/>\n",
    "\n",
    "**`features`**: This should be a `pd.DataFrame` object that represents the design matrix that will be fed in as input to your model. Each row represents a data point and each column represents a feature. Essentially your $X$ matrix. \n",
    "\n",
    "**`targets`**: This should be a numpy array that where each value corresponds to the AQI value or AQI category for each of the data points in `features`. Essentially your $y$ vector. \n",
    "\n",
    "**`build_model`**: This function should have two parameters: `features` that will be used as input into your model as a `pd.DataFrame` object, and `targets` should be a numpy array of AQI values OR AQI categories. It should return a *function* or *object* that represents your model.\n",
    "\n",
    "**`predict`**: This function should have two parameters: `model`, the model that you build from the previous function `build_model`, and `features` that represent the design matrix for the test values that we want to predict. It should return the **AQI category** (not a value) that the model predicts for these inputs."
   ]
  },
  {
   "cell_type": "markdown",
   "id": "cc24c2fc",
   "metadata": {
    "deletable": false,
    "editable": false
   },
   "source": [
    "<!-- BEGIN QUESTION -->\n",
    "\n",
    "<br/>\n",
    "\n",
    "### Question 10a: Choose Features and Model\n",
    "\n",
    "First, decide on the features that you will be using for your model. How predictive do you think each of the features that you chose will be of the AQI category? Then, how will you choose to make your model (multiple regression, decision trees, etc.)?\n",
    "\n",
    "<!--\n",
    "BEGIN QUESTION\n",
    "name: q10a\n",
    "points: 2\n",
    "manual: True\n",
    "-->"
   ]
  },
  {
   "cell_type": "markdown",
   "id": "5a8c83ba",
   "metadata": {},
   "source": [
    "There are actually a various amount of features that are available to us, from wind to temperatures to traffic levels. We ended up choosing this list of features: AADT (traffic level), Carbon Dioxide level, wind speeds, temperature. We chose this list because we believe these features are all relevant to predicting AQI level, meaning we think these features are all very predictive of AQI. From here, we have to explore different types of regression: linear, logistic, random forest, etc. I think we will start by exploring linear regression, since we expect our features to have a linear or positive correlation with AQI."
   ]
  },
  {
   "cell_type": "markdown",
   "id": "ba5c84a3",
   "metadata": {
    "deletable": false,
    "editable": false
   },
   "source": [
    "<!-- END QUESTION -->\n",
    "\n",
    "<br/>\n",
    "\n",
    "### Question 10b: Build Features\n",
    "\n",
    "Create the `build_features` function as described at the beginning of this part. You should also do any cleaning or merging of internal or external datasets in this part. Make sure to read the specifications of the function very carefully. The autograder will provide some sanity checks on your output.\n",
    "\n",
    "<!--\n",
    "BEGIN QUESTION\n",
    "name: q10b\n",
    "points: 3\n",
    "-->"
   ]
  },
  {
   "cell_type": "code",
   "execution_count": 37,
   "id": "7c9e2155-497c-4986-a5a4-c145191f8089",
   "metadata": {
    "tags": []
   },
   "outputs": [
    {
     "data": {
      "text/plain": [
       "Index(['State Name', 'County Name', 'Site Number', 'County Code', 'Month',\n",
       "       'Day', 'AADT', 'Land Use', 'Location Setting', 'AQI', 'Category',\n",
       "       'Site Lat', 'Site Long', 'Elevation', 'CO_level', 'wind', 'temp',\n",
       "       'Month_1', 'Month_2', 'Month_3', 'Month_4', 'Month_5', 'Month_6',\n",
       "       'Month_7', 'Month_8', 'Month_9', 'Month_10', 'Month_11', 'Month_12',\n",
       "       'AGRICULTURAL', 'COMMERCIAL', 'INDUSTRIAL', 'MOBILE', 'RESIDENTIAL',\n",
       "       'RURAL', 'SUBURBAN', 'URBAN AND CENTER CITY'],\n",
       "      dtype='object')"
      ]
     },
     "execution_count": 37,
     "metadata": {},
     "output_type": "execute_result"
    }
   ],
   "source": [
    "# MERGE LOCATION SETTING, LAND USE, ELEVATION\n",
    "site_data = epa_data['aqs_sites']\n",
    "site_data['State Code'] = pd.to_numeric(epa_data['aqs_sites']['State Code'], errors = \"coerce\")\n",
    "site_data = site_data[site_data['State Code'] == 6]\n",
    "\n",
    "gpd_epa_traffic[\"State Code\"] = gpd_epa_traffic[\"Defining Site\"].str.split(\"-\").str[0].astype(\"int64\")\n",
    "gpd_epa_traffic[\"Site Number\"] = (gpd_epa_traffic[\"Defining Site\"].str.split(\"-\").str[2]).astype(\"int64\")\n",
    "gpd_epa_traffic[\"County Code\"] = (gpd_epa_traffic[\"Defining Site\"].str.split(\"-\").str[1]).astype(\"int64\")\n",
    "\n",
    "gpd_epa_traffic = gpd_epa_traffic.merge(site_data[['Site Number', 'County Code', 'Land Use', 'Location Setting', 'Elevation']], on=['Site Number', 'County Code'], how='left')\n",
    "gpd_epa_traffic = gpd_epa_traffic.rename(columns={'Location Setting_y': 'Location Setting', 'Land Use_y': 'Land Use', 'county Name': 'County Name'})\n",
    "\n",
    "with_site_data = gpd_epa_traffic[['State Name', 'County Name', 'Site Number', 'County Code', 'Month', 'Day', 'AADT', 'Land Use', 'Location Setting', 'AQI', 'Category', 'Site Lat', 'Site Long', 'Elevation']]\n",
    "\n",
    "\n",
    "#MERGING CO_level DATA \n",
    "CO_level = epa_data_CA['daily_co']\n",
    "CO_level = CO_level.rename(columns={'Site Num': 'Site Number', 'Arithmetic Mean': 'CO_level'})\n",
    "\n",
    "CO_level['Month'] = CO_level['Date Local'].str.split('-', expand=True)[1].astype('int64')\n",
    "CO_level['Day'] = CO_level['Date Local'].str.split('-', expand=True)[2].astype('int64')\n",
    "\n",
    "CO_level = CO_level[['County Code', 'Site Number', 'Month', 'Day', 'CO_level']]\n",
    "\n",
    "with_site_CO = with_site_data.merge(CO_level, on=['County Code', 'Site Number', 'Month', 'Day'])\n",
    "\n",
    "\n",
    "# MERGE wind DATA\n",
    "wind = epa_data_CA['daily_temp']\n",
    "wind = wind.rename(columns={'Site Num': 'Site Number', 'Arithmetic Mean': 'wind'})\n",
    "\n",
    "wind['Month'] = wind['Date Local'].str.split('-', expand = True)[1].astype('int64')\n",
    "wind['Day'] = wind['Date Local'].str.split('-', expand = True)[2].astype('int64')\n",
    "\n",
    "wind = wind[['County Code', 'Site Number', 'Month', 'Day', 'wind']]\n",
    "\n",
    "with_site_CO_wind = with_site_CO.merge(wind, on=['Site Number', 'County Code', 'Day', 'Month'])\n",
    "\n",
    "\n",
    "#MERGING temp DATA\n",
    "temp = epa_data_CA['daily_wind']\n",
    "temp = temp.rename(columns={'Site Num': 'Site Number', 'Arithmetic Mean': 'temp'})\n",
    "\n",
    "temp['Month'] = temp['Date Local'].str.split('-', expand = True)[1].astype('int64')\n",
    "temp['Day'] = temp['Date Local'].str.split('-', expand = True)[2].astype('int64')\n",
    "\n",
    "temp = temp[['County Code', 'Site Number', 'Month', 'Day', 'temp']]\n",
    "\n",
    "with_site_CO_wind_temp = with_site_CO_wind.merge(temp, on=['County Code', 'Site Number', 'Month', 'Day'])\n",
    "\n",
    "\n",
    "#OHE month, land use, and location setting\n",
    "month_dummies = pd.get_dummies(with_site_CO_wind_temp['Month'], prefix = 'Month')\n",
    "land_dummies = pd.get_dummies(with_site_CO_wind_temp['Land Use'])\n",
    "loc_dummies = pd.get_dummies(with_site_CO_wind_temp['Location Setting'])\n",
    "\n",
    "with_site_CO_wind_temp = pd.concat([with_site_CO_wind_temp, month_dummies], axis=1)\n",
    "with_site_CO_wind_temp = pd.concat([with_site_CO_wind_temp, land_dummies], axis=1)\n",
    "with_site_CO_wind_temp = pd.concat([with_site_CO_wind_temp, loc_dummies], axis=1)\n",
    "\n",
    "final_table = with_site_CO_wind_temp\n",
    "\n",
    "final_table.columns\n"
   ]
  },
  {
   "cell_type": "code",
   "execution_count": 38,
   "id": "3c9390bc",
   "metadata": {},
   "outputs": [
    {
     "data": {
      "text/html": [
       "<div>\n",
       "<style scoped>\n",
       "    .dataframe tbody tr th:only-of-type {\n",
       "        vertical-align: middle;\n",
       "    }\n",
       "\n",
       "    .dataframe tbody tr th {\n",
       "        vertical-align: top;\n",
       "    }\n",
       "\n",
       "    .dataframe thead th {\n",
       "        text-align: right;\n",
       "    }\n",
       "</style>\n",
       "<table border=\"1\" class=\"dataframe\">\n",
       "  <thead>\n",
       "    <tr style=\"text-align: right;\">\n",
       "      <th></th>\n",
       "      <th>Elevation</th>\n",
       "      <th>CO_level</th>\n",
       "      <th>wind</th>\n",
       "      <th>Month_9</th>\n",
       "    </tr>\n",
       "  </thead>\n",
       "  <tbody>\n",
       "    <tr>\n",
       "      <th>0</th>\n",
       "      <td>1.0</td>\n",
       "      <td>0.492217</td>\n",
       "      <td>1.329167</td>\n",
       "      <td>0</td>\n",
       "    </tr>\n",
       "    <tr>\n",
       "      <th>1</th>\n",
       "      <td>1.0</td>\n",
       "      <td>0.492217</td>\n",
       "      <td>158.083333</td>\n",
       "      <td>0</td>\n",
       "    </tr>\n",
       "    <tr>\n",
       "      <th>2</th>\n",
       "      <td>1.0</td>\n",
       "      <td>0.487500</td>\n",
       "      <td>1.329167</td>\n",
       "      <td>0</td>\n",
       "    </tr>\n",
       "    <tr>\n",
       "      <th>3</th>\n",
       "      <td>1.0</td>\n",
       "      <td>0.487500</td>\n",
       "      <td>158.083333</td>\n",
       "      <td>0</td>\n",
       "    </tr>\n",
       "    <tr>\n",
       "      <th>4</th>\n",
       "      <td>1.0</td>\n",
       "      <td>0.380000</td>\n",
       "      <td>1.158333</td>\n",
       "      <td>0</td>\n",
       "    </tr>\n",
       "  </tbody>\n",
       "</table>\n",
       "</div>"
      ],
      "text/plain": [
       "   Elevation  CO_level        wind  Month_9\n",
       "0        1.0  0.492217    1.329167        0\n",
       "1        1.0  0.492217  158.083333        0\n",
       "2        1.0  0.487500    1.329167        0\n",
       "3        1.0  0.487500  158.083333        0\n",
       "4        1.0  0.380000    1.158333        0"
      ]
     },
     "execution_count": 38,
     "metadata": {},
     "output_type": "execute_result"
    }
   ],
   "source": [
    "feature_labels = ['Elevation', 'CO_level', 'wind', 'Month_9']\n",
    "\n",
    "FINAL_DATA = final_table.copy()\n",
    "\n",
    "features_noIndex = FINAL_DATA[feature_labels]\n",
    "features = features_noIndex.reset_index(drop = True)\n",
    "targets = np.array(FINAL_DATA['AQI'])\n",
    "\n",
    "features.head()"
   ]
  },
  {
   "cell_type": "code",
   "execution_count": 39,
   "id": "f5df3e40",
   "metadata": {
    "deletable": false,
    "editable": false
   },
   "outputs": [
    {
     "data": {
      "text/html": [
       "<p><strong><pre style='display: inline;'>q10b</pre></strong> passed!</p>"
      ],
      "text/plain": [
       "q10b results: All test cases passed!"
      ]
     },
     "execution_count": 39,
     "metadata": {},
     "output_type": "execute_result"
    }
   ],
   "source": [
    "grader.check(\"q10b\")"
   ]
  },
  {
   "cell_type": "markdown",
   "id": "26e15c8d",
   "metadata": {
    "deletable": false,
    "editable": false
   },
   "source": [
    "<br/>\n",
    "\n",
    "### Question 10c: Build Your Model!\n",
    "\n",
    "Create the `build_model` function as described at the beginning of this part. Make sure to read the specifications of the function very carefully. The autograder will provide some sanity checks on your output.\n",
    "\n",
    "<!--\n",
    "BEGIN QUESTION\n",
    "name: q10c\n",
    "points: 8\n",
    "-->"
   ]
  },
  {
   "cell_type": "code",
   "execution_count": 40,
   "id": "0436e7a7",
   "metadata": {},
   "outputs": [],
   "source": [
    "from sklearn.ensemble import RandomForestRegressor\n",
    "# from sklearn.linear_model import LinearRegression\n",
    "\n",
    "def build_model(features, targets):\n",
    "    model = RandomForestRegressor()\n",
    "    # model = LinearRegression()\n",
    "    model.fit(features, targets)\n",
    "    return model "
   ]
  },
  {
   "cell_type": "code",
   "execution_count": 41,
   "id": "4e7f4165",
   "metadata": {
    "deletable": false,
    "editable": false
   },
   "outputs": [
    {
     "data": {
      "text/html": [
       "<p><strong><pre style='display: inline;'>q10c</pre></strong> passed!</p>"
      ],
      "text/plain": [
       "q10c results: All test cases passed!"
      ]
     },
     "execution_count": 41,
     "metadata": {},
     "output_type": "execute_result"
    }
   ],
   "source": [
    "grader.check(\"q10c\")"
   ]
  },
  {
   "cell_type": "markdown",
   "id": "f38ca710",
   "metadata": {
    "deletable": false,
    "editable": false
   },
   "source": [
    "<br/>\n",
    "\n",
    "### Question 10d: Predict Points\n",
    "\n",
    "Create the `predict` function as described at the beginning of this part. Make sure to read the specifications of the function very carefully. The autograder will provide some sanity checks on your output.\n",
    "\n",
    "<!--\n",
    "BEGIN QUESTION\n",
    "name: q10d\n",
    "points: 4\n",
    "-->"
   ]
  },
  {
   "cell_type": "code",
   "execution_count": 42,
   "id": "edbecb47-a805-4416-b380-555b34bd3586",
   "metadata": {},
   "outputs": [],
   "source": [
    "categories = [\"good\", \"moderate\", \"unhealthy sensitive groups\", \"unhealthy\", \"very unhealthy\", \"hazardous\"]\n",
    "\n",
    "def predict(model, features):\n",
    "    prediction = model.predict(features)\n",
    "    return bucket_helper(prediction)\n",
    "    \n",
    "def bucket_helper(values):\n",
    "    bins = [-1, 50, 100, 150, 200, 300, 1000]\n",
    "    return pd.cut(values, bins = bins, labels = categories, right = True)\n",
    "\n",
    "model = build_model(features, targets)"
   ]
  },
  {
   "cell_type": "code",
   "execution_count": 43,
   "id": "c8f75bd7",
   "metadata": {
    "deletable": false,
    "editable": false
   },
   "outputs": [
    {
     "data": {
      "text/html": [
       "<p><strong><pre style='display: inline;'>q10d</pre></strong> passed!</p>"
      ],
      "text/plain": [
       "q10d results: All test cases passed!"
      ]
     },
     "execution_count": 43,
     "metadata": {},
     "output_type": "execute_result"
    }
   ],
   "source": [
    "grader.check(\"q10d\")"
   ]
  },
  {
   "cell_type": "markdown",
   "id": "95796ead",
   "metadata": {
    "deletable": false,
    "editable": false
   },
   "source": [
    "<br/>\n",
    "\n",
    "### Question 10e: Model Validation and Performance\n",
    "\n",
    "Now that you have finished making your model, we want to see how well it performs on our data. In this question, use the following cell to split your data into training and validation sets. You should partition 70\\% of your data to be used as your training set, and the remaining to be used as your validation set. \n",
    "\n",
    "Assign `binary_error` to be the **fraction of inputs on your validation set that the your `predict` function classifies incorrectly.** Note that this is a binary loss in some sense as it assigns a loss of 1 to those points predicted incorrectly, and a loss of 0 to those points predicted correctly.\n",
    "\n",
    "Assign `cv_error` to be the the error on the validation set produced by the loss function $ L $ that you designed in question 3.\n",
    "\n",
    "*Hint*: you can use `train_test_split` from `sklearn`.\n",
    "\n",
    "<!--\n",
    "BEGIN QUESTION\n",
    "name: q10e\n",
    "points: 8\n",
    "-->"
   ]
  },
  {
   "cell_type": "code",
   "execution_count": 44,
   "id": "9b2a0333",
   "metadata": {},
   "outputs": [
    {
     "name": "stdout",
     "output_type": "stream",
     "text": [
      "26.549586776859503 28.97727272727273\n",
      "0.7357649214398507\n"
     ]
    }
   ],
   "source": [
    "from sklearn.model_selection import train_test_split\n",
    "x_train, x_valid, y_train, y_valid = train_test_split(features, targets, test_size = 0.3)\n",
    "\n",
    "model = build_model(x_train, y_train)\n",
    "valid_prediction = predict(model, x_valid)\n",
    "actual_valid = bucket_helper(y_valid)\n",
    "\n",
    "def loss(prediction, actual):\n",
    "    loss_values = {'good':1, 'moderate':2, 'unhealthy sensitive groups':3, 'unhealthy':4, 'very unhealthy':5, 'hazardous':6}\n",
    "    pred = np.array([loss_values[i] for i in prediction])\n",
    "    ac = np.array([loss_values[i] for i in actual])\n",
    "    return np.mean(np.abs(pred - ac))\n",
    "    \n",
    "sum_1 = 0\n",
    "for i in range(len(valid_prediction)):\n",
    "    if valid_prediction[i] != actual_valid[i]:\n",
    "        sum_1 += 1\n",
    "    \n",
    "binary_error =  (sum_1 / len(valid_prediction))*100\n",
    "cv_error = loss(valid_prediction, actual_valid)*100\n",
    "\n",
    "print(binary_error, cv_error)\n",
    "print(model.score(x_valid, y_valid))"
   ]
  },
  {
   "cell_type": "code",
   "execution_count": 45,
   "id": "60db0aa0",
   "metadata": {
    "deletable": false,
    "editable": false
   },
   "outputs": [
    {
     "data": {
      "text/html": [
       "<p><strong><pre style='display: inline;'>q10e</pre></strong> passed!</p>"
      ],
      "text/plain": [
       "q10e results: All test cases passed!"
      ]
     },
     "execution_count": 45,
     "metadata": {},
     "output_type": "execute_result"
    }
   ],
   "source": [
    "grader.check(\"q10e\")"
   ]
  },
  {
   "cell_type": "markdown",
   "id": "7c8b7e39",
   "metadata": {},
   "source": [
    "<br/><br/>\n",
    "\n",
    "---\n",
    "## Part 5: Open-Ended Modeling\n",
    "\n",
    "Now that you have had some experience with creating the a model from scratch using the existing data, you are now ready to explore other questions, such as the ones in your design document. In this section, you will use the tools that we developed in the previous parts to answer the hypothesis of your choice! Note that breaking your model-building and analysis process into modularized functions as you did above will make your code more interpretable and less error-prone. "
   ]
  },
  {
   "cell_type": "markdown",
   "id": "303c6038",
   "metadata": {
    "deletable": false,
    "editable": false
   },
   "source": [
    "<!-- BEGIN QUESTION -->\n",
    "\n",
    "### Question 11a\n",
    "\n",
    "Train a baseline model of your choice using any supervised learning approach we have studied to answer your hypothesis and predict something related to AQI; you are not limited to a linear model. However, you may use a maximum of **three features** for this part. After training, evaluate it on some validation data that you hold out yourself. \n",
    "\n",
    "<!--\n",
    "BEGIN QUESTION\n",
    "name: q11a\n",
    "points: 5\n",
    "manual: True\n",
    "-->"
   ]
  },
  {
   "cell_type": "code",
   "execution_count": 46,
   "id": "62b08e29",
   "metadata": {},
   "outputs": [
    {
     "name": "stdout",
     "output_type": "stream",
     "text": [
      "33.264462809917354 0.37696280991735537\n",
      "0.626585671364928\n"
     ]
    }
   ],
   "source": [
    "feature_labels = ['AADT', \n",
    "                  'Month',\n",
    "                  'AGRICULTURAL', 'COMMERCIAL', 'INDUSTRIAL', 'MOBILE', 'RESIDENTIAL']\n",
    "\n",
    "features_noIndex = FINAL_DATA[feature_labels]\n",
    "features = features_noIndex.reset_index(drop = True)\n",
    "targets = np.array(FINAL_DATA['AQI'])\n",
    "\n",
    "x_train, x_valid, y_train, y_valid = train_test_split(features, targets, test_size = 0.3)\n",
    "\n",
    "model = build_model(x_train, y_train)\n",
    "prediction = predict(model, x_valid)\n",
    "y = bucket_helper(y_valid)\n",
    "    \n",
    "sum_1 = 0\n",
    "for i in range(len(prediction)):\n",
    "    if prediction[i] != y[i]:\n",
    "        sum_1 += 1\n",
    "    \n",
    "binary_error =  (sum_1 / len(prediction))*100\n",
    "\n",
    "def calculate_errors(iterations, feature_labels):\n",
    "    features_noIndex = FINAL_DATA[feature_labels]\n",
    "    features = features_noIndex.reset_index(drop = True)\n",
    "    targets = np.array(FINAL_DATA['AQI'])\n",
    "   \n",
    "    final_cv_err = []\n",
    "    for x in range(iterations):\n",
    "        x_train, x_valid, y_train, y_valid = train_test_split(features, targets, test_size = 0.3)\n",
    "        model = build_model(x_train, y_train)\n",
    "        valid_prediction = predict(model, x_valid)\n",
    "        actual_valid = bucket_helper(y_valid)\n",
    "       \n",
    "        cv_error = loss(valid_prediction, actual_valid)\n",
    "        final_cv_err.append(cv_error)\n",
    "    return final_cv_err\n",
    "\n",
    "print(binary_error, np.mean(calculate_errors(5, feature_labels)))\n",
    "print(model.score(x_valid, y_valid))\n"
   ]
  },
  {
   "cell_type": "code",
   "execution_count": 47,
   "id": "b1d39932-6803-4e55-a196-6e0f001424b9",
   "metadata": {},
   "outputs": [
    {
     "data": {
      "text/plain": [
       "(0.6365905656692282, 0.47064304769845516, 0.5067450052936502, None)"
      ]
     },
     "execution_count": 47,
     "metadata": {},
     "output_type": "execute_result"
    }
   ],
   "source": [
    "from sklearn.metrics import precision_recall_fscore_support\n",
    "\n",
    "model = build_model(x_train, y_train)\n",
    "\n",
    "y_true = bucket_helper(y_valid)\n",
    "y_pred = predict(model, x_valid)\n",
    "precision_recall_fscore_support(y_true, y_pred, average='macro')"
   ]
  },
  {
   "cell_type": "markdown",
   "id": "f2558166",
   "metadata": {
    "deletable": false,
    "editable": false
   },
   "source": [
    "<!-- END QUESTION -->\n",
    "\n",
    "<!-- BEGIN QUESTION -->\n",
    "\n",
    "### Question 11b\n",
    "\n",
    "Explain and summarize the model that you used. In your summary, make sure to include the model description, the inputs, the outputs, as well as the cross-validation error. Additionally, talk a little bit about what you would change to your baseline model to improve it. The expected length of your summary should be 8-12 sentences. \n",
    "\n",
    "<!--\n",
    "BEGIN QUESTION\n",
    "name: q11b\n",
    "points: 2\n",
    "manual: True\n",
    "-->"
   ]
  },
  {
   "cell_type": "markdown",
   "id": "82cf47b9",
   "metadata": {},
   "source": [
    "The model that we created in this section was based off our hypothesis. Since we hypothesized that there is a relationship between AADT(traffic level), geographic land use, time of year and AQI, we chose our features to be these three exact features. We decided to go with random forest regression, as we believed that it would work better than linear regression, since linear is too simple when it comes to categorical variables, like land use. For our input, the AADT values come as integers, however Month and Land Use are categorical, so they need to be one-hot encoded to be properly used in our model. For this reason, the input to Month and Land Use looks the way it does. We output a fully trained model, that is ready for testing. Our method for testing the model was cross-validation. We split the dataset into training and validation sets, and put the model through 5 runs of cross-validation. This way we can compare the accuracy of different models. This basic model returns a cross validation score of around 58% accuracy. We noticed that the accuracy of this initial model was subpar, although it did indicate a relationship between these features and AQI. However, we expected much better from a Data100 model. First of all, there a lot of other features that could also be added on top of these to get a better indicator for AQI. Second, we can also explore different types of regression, as the best type of regression depends on one's specific model. "
   ]
  },
  {
   "cell_type": "markdown",
   "id": "6d4b2852",
   "metadata": {
    "deletable": false,
    "editable": false
   },
   "source": [
    "<!-- END QUESTION -->\n",
    "\n",
    "<!-- BEGIN QUESTION -->\n",
    "\n",
    "### Question 11c\n",
    "\n",
    "Improve your model from part 11a based on the improvements that you suggested in part 11b. This could be the addition of more features, performing additional transformations on your features, increasing/decreasing the complexity of the model itself, or really anything else. You have no limitation on the number of features you can use, but you are required to use at least **one external dataset** that you process and merge in yourself. \n",
    "\n",
    "<!--\n",
    "BEGIN QUESTION\n",
    "name: q11c\n",
    "points: 8\n",
    "manual: True\n",
    "-->"
   ]
  },
  {
   "cell_type": "code",
   "execution_count": 48,
   "id": "60a5bcb0",
   "metadata": {
    "tags": []
   },
   "outputs": [
    {
     "name": "stdout",
     "output_type": "stream",
     "text": [
      "11.62190082644628 0.13285123966942153\n",
      "0.9456615722909386\n"
     ]
    }
   ],
   "source": [
    "feature_labels = ['AADT', 'CO_level', 'wind', 'Elevation', 'temp',\n",
    "                  'Month_1', 'Month_2', 'Month_3', 'Month_4', 'Month_5', 'Month_6', 'Month_7', 'Month_8', 'Month_9', 'Month_10', 'Month_11', 'Month_12',\n",
    "                  'AGRICULTURAL', 'COMMERCIAL', 'INDUSTRIAL', 'MOBILE', 'RESIDENTIAL', \n",
    "                  'RURAL', 'SUBURBAN', 'URBAN AND CENTER CITY']\n",
    "\n",
    "features_noIndex = FINAL_DATA[feature_labels]\n",
    "features = features_noIndex.reset_index(drop = True)\n",
    "targets = np.array(FINAL_DATA['AQI'])\n",
    "\n",
    "x_train, x_valid, y_train, y_valid = train_test_split(features, targets, test_size = 0.3)\n",
    "\n",
    "model = build_model(x_train, y_train)\n",
    "prediction = predict(model, x_valid)\n",
    "y = bucket_helper(y_valid)\n",
    "\n",
    "\n",
    "sum_1 = 0\n",
    "for i in range(len(prediction)):\n",
    "    if prediction[i] != y[i]:\n",
    "        sum_1 += 1\n",
    "    \n",
    "binary_error = (sum_1 / len(prediction))*100\n",
    "\n",
    "print(binary_error, np.mean(calculate_errors(5, feature_labels)))\n",
    "print(model.score(x_valid, y_valid))\n"
   ]
  },
  {
   "cell_type": "code",
   "execution_count": 49,
   "id": "812ec4c2-05d4-4e6b-8ec1-81b3eab70b0c",
   "metadata": {},
   "outputs": [
    {
     "data": {
      "text/plain": [
       "(0.8497393434885757, 0.7760568075168722, 0.7943209210566765, None)"
      ]
     },
     "execution_count": 49,
     "metadata": {},
     "output_type": "execute_result"
    }
   ],
   "source": [
    "from sklearn.metrics import precision_recall_fscore_support\n",
    "\n",
    "features = FINAL_DATA[feature_labels]\n",
    "x_train, x_valid, y_train, y_valid = train_test_split(features, targets, test_size = 0.3)\n",
    "\n",
    "model = build_model(x_train, y_train)\n",
    "\n",
    "y_true = bucket_helper(y_valid)\n",
    "y_pred = predict(model, x_valid)\n",
    "precision_recall_fscore_support(y_true, y_pred, average='macro')\n",
    "\n",
    "def prec_recall_f1(dataset, feature_labels, targets):\n",
    "    features = dataset[feature_labels]\n",
    "    x_train, x_valid, y_train, y_valid = train_test_split(features, targets, test_size = 0.3)\n",
    "    model = build_model(x_train, y_train)\n",
    "\n",
    "    y_true = bucket_helper(y_valid)\n",
    "    y_pred = predict(model, x_valid)\n",
    "    \n",
    "    return precision_recall_fscore_support(y_true, y_pred, average='macro')\n",
    "\n",
    "\n",
    "prec_recall_f1(FINAL_DATA, feature_labels, targets)"
   ]
  },
  {
   "cell_type": "markdown",
   "id": "62956358",
   "metadata": {
    "deletable": false,
    "editable": false
   },
   "source": [
    "<!-- END QUESTION -->\n",
    "\n",
    "<!-- BEGIN QUESTION -->\n",
    "\n",
    "### Question 11d\n",
    "\n",
    "Compare and contrast your baseline model and (hopefully) improved model. Make sure to compare their validation errors. Were you able to successfully answer your research question and evaluate your hypothesis? Summarize in a few sentences the conclusions that you can draw from your model and predictions. The expected length of your response should be 8-10 sentences. \n",
    "\n",
    "<!--\n",
    "BEGIN QUESTION\n",
    "name: q11d\n",
    "points: 3\n",
    "manual: True\n",
    "-->"
   ]
  },
  {
   "cell_type": "markdown",
   "id": "c541f7ef",
   "metadata": {},
   "source": [
    "After making the mentioned improvements, our model has done a lot better. Once again, we used cross-validation to compare the accuracy scores of both models. While the initial model gets around 58% accuracy, the new model attains up to 94% accuracy. This was able to help us answer our initial research question, which was exploring the relationship between AADT, time, land use and AQI. We learned that the correlation between the feature set and AQI exists, but isn't as strong as we expected. This led us to confirm our hypothesis because the accuracy rate is still greater than 50%, which is the accuracy of a random guess. However, it also helped us conclude that there are defenitely much stronger feature sets that could better predict AQI. We can also compare performances of models through other values, known as precision, recall, and f1. To compare, we calculate these values for both models. The results are shown below:"
   ]
  },
  {
   "cell_type": "code",
   "execution_count": 50,
   "id": "95cda79e-66d5-444d-a88e-499034f4d025",
   "metadata": {
    "tags": []
   },
   "outputs": [
    {
     "data": {
      "text/plain": [
       "<matplotlib.legend.Legend at 0x7f3ca48076a0>"
      ]
     },
     "execution_count": 50,
     "metadata": {},
     "output_type": "execute_result"
    },
    {
     "data": {
      "image/png": "[encoded data removed]",
      "text/plain": [
       "<Figure size 432x288 with 1 Axes>"
      ]
     },
     "metadata": {
      "needs_background": "light"
     },
     "output_type": "display_data"
    }
   ],
   "source": [
    "# COMPARING INITIAL MODEL TO IMPROVED MODEL\n",
    "initial_model_features = ['AADT', 'Month_1', 'Month_2', 'Month_3', 'Month_4', 'Month_5', 'Month_6', 'Month_7', 'Month_8', 'Month_9', 'Month_10', 'Month_11', 'Month_12','AGRICULTURAL', 'COMMERCIAL', 'INDUSTRIAL', 'MOBILE', 'RESIDENTIAL']\n",
    "improved_model_features = ['AADT', 'CO_level', 'temp', 'Month_1', 'Month_2', 'Month_3', 'Month_4', 'Month_5', 'Month_6', 'Month_7', 'Month_8', 'Month_9', 'Month_10', 'Month_11', 'Month_12','AGRICULTURAL', 'COMMERCIAL', 'INDUSTRIAL', 'MOBILE', 'RESIDENTIAL', 'RURAL', 'SUBURBAN', 'URBAN AND CENTER CITY']\n",
    "\n",
    "initial_model_errors = calculate_errors(5 , initial_model_features)\n",
    "improved_model_errors = calculate_errors(5, improved_model_features)\n",
    "\n",
    "splits = [1, 2, 3, 4, 5]\n",
    "plt.plot(splits, initial_model_errors, 'bo-', label = 'initial model')\n",
    "plt.plot(splits, improved_model_errors, 'ro-', label = 'improved model')\n",
    "plt.title(\"Improved Model Errors vs Initial Model Errors on 5 Fold Cross Validation\")\n",
    "plt.ylabel(\"CV Error\")\n",
    "plt.xlabel(\"Split Number\")\n",
    "plt.legend()"
   ]
  },
  {
   "cell_type": "code",
   "execution_count": 51,
   "id": "dabc6e2f-6af8-4071-b13d-93a6b15be7f2",
   "metadata": {},
   "outputs": [
    {
     "data": {
      "text/plain": [
       "<matplotlib.legend.Legend at 0x7f3ca62d8e50>"
      ]
     },
     "execution_count": 51,
     "metadata": {},
     "output_type": "execute_result"
    },
    {
     "data": {
      "image/png": "[encoded data removed]",
      "text/plain": [
       "<Figure size 432x288 with 1 Axes>"
      ]
     },
     "metadata": {
      "needs_background": "light"
     },
     "output_type": "display_data"
    }
   ],
   "source": [
    "initial_model_metrics = prec_recall_f1(FINAL_DATA, initial_model_features, targets)\n",
    "improved_model_metrics = prec_recall_f1(FINAL_DATA, improved_model_features, targets)\n",
    "\n",
    "metric_table = pd.DataFrame(columns = ['Metric', 'Model', 'Values'], data = [['Precision', 'Initial Model', 0.637], ['Recall', 'Initial Model', 0.475], ['F1 Score', 'Initial Model', 0.466], ['Precision', 'Improved Model', 0.879], ['Recall', 'Improved Model', .818], ['F1 Score', 'Improved Model',0.838]])\n",
    "sns.barplot(data = metric_table, x = 'Metric', y = 'Values', hue = 'Model')\n",
    "plt.title(\"Model Evaluation Metrics for Initial and Improved Model\")\n",
    "plt.ylabel(\"Values\")\n",
    "plt.xlabel(\"Type of Metric\")\n",
    "plt.legend()"
   ]
  },
  {
   "cell_type": "markdown",
   "id": "a8758917",
   "metadata": {
    "deletable": false,
    "editable": false
   },
   "source": [
    "---\n",
    "\n",
    "To double-check your work, the cell below will rerun all of the autograder tests."
   ]
  },
  {
   "cell_type": "code",
   "execution_count": 52,
   "id": "b37b2d6e-5a71-4052-9afc-3453bb5ce9e0",
   "metadata": {
    "tags": []
   },
   "outputs": [
    {
     "data": {
      "text/plain": [
       "(19225, 9)"
      ]
     },
     "execution_count": 52,
     "metadata": {},
     "output_type": "execute_result"
    }
   ],
   "source": [
    "# MERGE SITE DATA\n",
    "special_cols = ['State Name', 'county Name', 'Month', 'Day', 'AQI', 'Category', 'Defining Site', 'Latitude', 'Longitude']\n",
    "daily_county_CA = epa_data_CA['daily_county_aqi']\n",
    "\n",
    "daily_county_CA[\"Site Number\"] = (daily_county_CA[\"Defining Site\"].str.split(\"-\").str[2]).astype(\"int64\")\n",
    "daily_county_CA[\"State Code\"] = daily_county_CA[\"Defining Site\"].str.split(\"-\").str[0].astype(\"int64\")\n",
    "daily_county_CA[\"County Code\"] = (daily_county_CA[\"Defining Site\"].str.split(\"-\").str[1]).astype(\"int64\")\n",
    "\n",
    "epa_data['aqs_sites']['State Code'] = pd.to_numeric(epa_data['aqs_sites']['State Code'], errors = \"coerce\")\n",
    "\n",
    "epa_data_CA_merged = daily_county_CA.merge(epa_data['aqs_sites'], on = ['State Code', \"County Code\", \"Site Number\"])\n",
    "epa_data_CA_merged = epa_data_CA_merged.rename(columns = {\"State Name_x\" : \"State Name\", \"count Name_y\" : \"county Name\"})\n",
    "epa_data_CA_merged = epa_data_CA_merged[special_cols]\n",
    "\n",
    "epa_data_CA_merged.shape"
   ]
  },
  {
   "cell_type": "code",
   "execution_count": 53,
   "id": "4521edc4",
   "metadata": {
    "deletable": false,
    "editable": false,
    "tags": []
   },
   "outputs": [
    {
     "data": {
      "text/plain": [
       "q10b results: All test cases passed!\n",
       "\n",
       "q10c results: All test cases passed!\n",
       "\n",
       "q10d results: All test cases passed!\n",
       "\n",
       "q10e results: All test cases passed!\n",
       "\n",
       "q1a results: All test cases passed!\n",
       "\n",
       "q1b results: All test cases passed!\n",
       "\n",
       "q1c results: All test cases passed!\n",
       "\n",
       "q2a results: All test cases passed!\n",
       "\n",
       "q2b results: All test cases passed!\n",
       "\n",
       "q3a results: All test cases passed!\n",
       "\n",
       "q4a results: All test cases passed!\n",
       "\n",
       "q4i results: All test cases passed!\n",
       "\n",
       "q5a results: All test cases passed!\n",
       "\n",
       "q6a results: All test cases passed!\n",
       "\n",
       "q6b results: All test cases passed!\n",
       "\n",
       "q8a results: All test cases passed!\n",
       "\n",
       "q8b results: All test cases passed!"
      ]
     },
     "execution_count": 53,
     "metadata": {},
     "output_type": "execute_result"
    }
   ],
   "source": [
    "grader.check_all()"
   ]
  },
  {
   "cell_type": "markdown",
   "id": "9946713b",
   "metadata": {
    "deletable": false,
    "editable": false,
    "tags": []
   },
   "source": [
    "## Submission\n",
    "\n",
    "Make sure you have run all cells in your notebook in order before running the cell below, so that all images/graphs appear in the output. The cell below will generate a zip file for you to submit. **Please save before exporting!**"
   ]
  },
  {
   "cell_type": "code",
   "execution_count": 54,
   "id": "d43d5a5c",
   "metadata": {
    "deletable": false,
    "editable": false
   },
   "outputs": [
    {
     "data": {
      "text/html": [
       "\n",
       "            <p>Your submission has been exported. Click <a href=\"AQI_2021_12_13T21_47_57_694098.zip\" download=\"AQI_2021_12_13T21_47_57_694098.zip\" target=\"_blank\">here</a>\n",
       "            to download the zip file.</p>\n",
       "            "
      ],
      "text/plain": [
       "<IPython.core.display.HTML object>"
      ]
     },
     "metadata": {},
     "output_type": "display_data"
    }
   ],
   "source": [
    "# Save your notebook first, then run this cell to export your submission.\n",
    "grader.export()"
   ]
  },
  {
   "cell_type": "markdown",
   "id": "b6d88d47",
   "metadata": {},
   "source": [
    " "
   ]
  }
 ],
 "metadata": {
  "kernelspec": {
   "display_name": "Python 3 (ipykernel)",
   "language": "python",
   "name": "python3"
  },
  "language_info": {
   "codemirror_mode": {
    "name": "ipython",
    "version": 3
   },
   "file_extension": ".py",
   "mimetype": "text/x-python",
   "name": "python",
   "nbconvert_exporter": "python",
   "pygments_lexer": "ipython3",
   "version": "3.9.7"
  }
 },
 "nbformat": 4,
 "nbformat_minor": 5
}
